{
 "cells": [
  {
   "cell_type": "markdown",
   "metadata": {},
   "source": [
    "##Ductile Micro Grinding - Extended\n",
    "#Inputs\n",
    "\n",
    "Dc is tool diameter\n",
    "\n",
    "Ae is radial stepover\n",
    "\n",
    "Cc is the grain concentration according to FEPA. C145 for ordinary metal bond, C75 for ordinary resin bond from Haefeli\n",
    "\n",
    "dg is the average grain size in microns, i.e. D33 = 33 microns\n",
    "\n",
    "E is the Modulus of Elasticity, H is the hardness and K_c is the toughness\n",
    "\n",
    "Vc is tool surface speed\n",
    "\n",
    "h_cu-max equations are according to Bifano (1987-1991) and Huang (2020)"
   ]
  },
  {
   "cell_type": "code",
   "execution_count": 20,
   "metadata": {},
   "outputs": [
    {
     "data": {
      "application/vnd.jupyter.widget-view+json": {
       "model_id": "aafcaf96ccb7407e82c646ee873a37d8",
       "version_major": 2,
       "version_minor": 0
      },
      "text/plain": [
       "IntSlider(value=100000, description='Spindle rpm', max=250000, min=10)"
      ]
     },
     "metadata": {},
     "output_type": "display_data"
    },
    {
     "data": {
      "application/vnd.jupyter.widget-view+json": {
       "model_id": "9902bd20a19f4425b85fa6af435d6b3e",
       "version_major": 2,
       "version_minor": 0
      },
      "text/plain": [
       "FloatSlider(value=3.0, description='Dc mm', max=10.0, min=0.1)"
      ]
     },
     "metadata": {},
     "output_type": "display_data"
    },
    {
     "data": {
      "application/vnd.jupyter.widget-view+json": {
       "model_id": "2b74cb3c122a471dbfd47a32a1355d38",
       "version_major": 2,
       "version_minor": 0
      },
      "text/plain": [
       "IntSlider(value=10, description='r chip ratio', max=50, min=2)"
      ]
     },
     "metadata": {},
     "output_type": "display_data"
    },
    {
     "data": {
      "application/vnd.jupyter.widget-view+json": {
       "model_id": "01cc66ef376b4edfa64282d1a7c7a8bd",
       "version_major": 2,
       "version_minor": 0
      },
      "text/plain": [
       "FloatLogSlider(value=500.0, description='C grain density', max=6.0, min=1.0, step=0.001)"
      ]
     },
     "metadata": {},
     "output_type": "display_data"
    },
    {
     "data": {
      "application/vnd.jupyter.widget-view+json": {
       "model_id": "a6de6e098fc142378cfb5d8eaf9c3ab3",
       "version_major": 2,
       "version_minor": 0
      },
      "text/plain": [
       "IntSlider(value=168, description='E GPa', max=1000, min=10)"
      ]
     },
     "metadata": {},
     "output_type": "display_data"
    },
    {
     "data": {
      "application/vnd.jupyter.widget-view+json": {
       "model_id": "d400d23128b74b93a2459619280d31c1",
       "version_major": 2,
       "version_minor": 0
      },
      "text/plain": [
       "FloatSlider(value=11.0, description='H GPa', max=80.0, min=1.0)"
      ]
     },
     "metadata": {},
     "output_type": "display_data"
    },
    {
     "data": {
      "application/vnd.jupyter.widget-view+json": {
       "model_id": "e28ceedd8b8a4fd9953053ee78724d90",
       "version_major": 2,
       "version_minor": 0
      },
      "text/plain": [
       "FloatSlider(value=0.7, description='Kc MPa.m^1/2', max=20.0, min=0.1)"
      ]
     },
     "metadata": {},
     "output_type": "display_data"
    },
    {
     "data": {
      "application/vnd.jupyter.widget-view+json": {
       "model_id": "12e7c8d8b1134882b68725a68f48e92d",
       "version_major": 2,
       "version_minor": 0
      },
      "text/plain": [
       "FloatLogSlider(value=0.001, description='Ae mm', max=1.0, min=-6.0, step=0.01)"
      ]
     },
     "metadata": {},
     "output_type": "display_data"
    }
   ],
   "source": [
    "import math\n",
    "import ipywidgets as widgets\n",
    "\n",
    "\n",
    "slider_rpm = widgets.IntSlider(value=100000, min=10, max=250000, description='Spindle rpm')\n",
    "slider_diameter = widgets.FloatSlider(value=3, min=0.1, max=10, description='Dc mm')\n",
    "\n",
    "slider_chip_aspect_ratio = widgets.IntSlider(value=10, min=2, max=50, description='r chip ratio')\n",
    "slider_grain_density = widgets.FloatLogSlider(value=500, base=10, min=1, max=6, step=0.001, description='C grain density')\n",
    "\n",
    "slider_E = widgets.IntSlider(value=168, min=10, max=1000, step=1, description='E GPa')\n",
    "slider_H = widgets.FloatSlider(value=11, min=1, max=80, step=0.1, description='H GPa')\n",
    "slider_Kc = widgets.FloatSlider(value=0.7, min=0.1, max=20, step=0.1, description='Kc MPa.m^1/2')\n",
    "\n",
    "slider_stepover = widgets.FloatLogSlider(value=0.001, base=10, min=-6, max=1, step = 0.01,description='Ae mm')\n",
    "\n",
    "output_crit_chip_bifano = widgets.FloatText(disabled=True, description='Bi h_cu-max')\n",
    "output_crit_chip_huang = widgets.FloatText(disabled=True, description='Hu h_cu-max')\n",
    "output_surface_speed = widgets.FloatText(disabled=True, description='Vc m/min')\n",
    "output_feedrate_side_bifano = widgets.FloatText(disabled=True, description='Bi Vf mm/s')\n",
    "output_feedrate_side_huang = widgets.FloatText(disabled=True, description='Hu Vf mm/s')\n",
    "\n",
    "\n",
    "def compute_surface_speed(*ignore):\n",
    "    output_surface_speed.value = round(math.pi*slider_diameter.value * slider_rpm.value/1000)\n",
    "\n",
    "def compute_crit_chip(*ignore):\n",
    "    E = slider_E.value*10e9\n",
    "    H = slider_H.value*10e9\n",
    "    Kc = slider_Kc.value*10e6\n",
    "\n",
    "    output_crit_chip_bifano.value = 0.15*(E/H)*((Kc/H)**2)\n",
    "    output_crit_chip_huang.value = 8.7*(math.sqrt(H/E))*((Kc/H)**2)\n",
    "\n",
    "def compute_feedrates_crit_chip(*ignore):\n",
    "    output_feedrate_side_bifano.value = round((output_surface_speed.value*(1000*output_crit_chip_bifano.value)**2)/((4/(slider_grain_density.value*slider_chip_aspect_ratio.value))*math.sqrt(slider_stepover.value/slider_diameter.value)),4)\n",
    "\n",
    "    output_feedrate_side_huang.value = round((output_surface_speed.value*(1000*output_crit_chip_huang.value)**2)/((4/(slider_grain_density.value*slider_chip_aspect_ratio.value))*math.sqrt(slider_stepover.value/slider_diameter.value)),4)\n",
    "\n",
    "\n",
    "slider_rpm.observe(compute_surface_speed, 'value')\n",
    "slider_diameter.observe(compute_surface_speed, 'value')\n",
    "\n",
    "slider_E.observe(compute_crit_chip, 'value')\n",
    "slider_H.observe(compute_crit_chip, 'value')\n",
    "slider_Kc.observe(compute_crit_chip, 'value')\n",
    "\n",
    "output_surface_speed.observe(compute_feedrates_crit_chip, 'value')\n",
    "slider_diameter.observe(compute_feedrates_crit_chip, 'value')\n",
    "slider_chip_aspect_ratio.observe(compute_feedrates_crit_chip, 'value')\n",
    "slider_grain_density.observe(compute_feedrates_crit_chip, 'value')\n",
    "slider_stepover.observe(compute_feedrates_crit_chip, 'value')\n",
    "output_crit_chip_bifano.observe(compute_feedrates_crit_chip, 'value')\n",
    "output_crit_chip_huang.observe(compute_feedrates_crit_chip, 'value')\n",
    "\n",
    "\n",
    "display(slider_rpm)\n",
    "display(slider_diameter)\n",
    "display(slider_chip_aspect_ratio)\n",
    "display(slider_grain_density)\n",
    "display(slider_E)\n",
    "display(slider_H)\n",
    "display(slider_Kc)\n",
    "display(slider_stepover)\n",
    "\n",
    "\n"
   ]
  },
  {
   "cell_type": "markdown",
   "metadata": {},
   "source": [
    "#Results"
   ]
  },
  {
   "cell_type": "code",
   "execution_count": 21,
   "metadata": {},
   "outputs": [
    {
     "data": {
      "application/vnd.jupyter.widget-view+json": {
       "model_id": "aa0bb98ac0254af19562584f12d4274a",
       "version_major": 2,
       "version_minor": 0
      },
      "text/plain": [
       "FloatText(value=0.0, description='Vc m/min', disabled=True)"
      ]
     },
     "metadata": {},
     "output_type": "display_data"
    },
    {
     "data": {
      "application/vnd.jupyter.widget-view+json": {
       "model_id": "fec9f3d7f8804cc38a17bc27b5de685c",
       "version_major": 2,
       "version_minor": 0
      },
      "text/plain": [
       "FloatText(value=5.77182976480888e-08, description='Bifano h_cu-max', disabled=True)"
      ]
     },
     "metadata": {},
     "output_type": "display_data"
    },
    {
     "data": {
      "application/vnd.jupyter.widget-view+json": {
       "model_id": "d3e05d70dbbf49a28ad6c3c26fe69434",
       "version_major": 2,
       "version_minor": 0
      },
      "text/plain": [
       "FloatText(value=8.690553023117876e-08, description='Huang h_cu-max', disabled=True)"
      ]
     },
     "metadata": {},
     "output_type": "display_data"
    },
    {
     "data": {
      "application/vnd.jupyter.widget-view+json": {
       "model_id": "541f4a9c5c7b4cdbab10c467d99ba84b",
       "version_major": 2,
       "version_minor": 0
      },
      "text/plain": [
       "FloatText(value=0.0, description='Bifano Vf mm/s', disabled=True)"
      ]
     },
     "metadata": {},
     "output_type": "display_data"
    },
    {
     "data": {
      "application/vnd.jupyter.widget-view+json": {
       "model_id": "8e5c43653d4441e89f79500fcbf9db5d",
       "version_major": 2,
       "version_minor": 0
      },
      "text/plain": [
       "FloatText(value=0.0, description='Huang Vf mm/s', disabled=True)"
      ]
     },
     "metadata": {},
     "output_type": "display_data"
    }
   ],
   "source": [
    "display(output_surface_speed)\n",
    "\n",
    "display(output_crit_chip_bifano)\n",
    "display(output_crit_chip_huang)\n",
    "\n",
    "display(output_feedrate_side_bifano)\n",
    "display(output_feedrate_side_huang)\n"
   ]
  },
  {
   "cell_type": "code",
   "execution_count": null,
   "metadata": {},
   "outputs": [],
   "source": []
  }
 ],
 "metadata": {
  "kernelspec": {
   "display_name": "Python 3",
   "language": "python",
   "name": "python3"
  },
  "language_info": {
   "codemirror_mode": {
    "name": "ipython",
    "version": 3
   },
   "file_extension": ".py",
   "mimetype": "text/x-python",
   "name": "python",
   "nbconvert_exporter": "python",
   "pygments_lexer": "ipython3",
   "version": "3.13.1"
  }
 },
 "nbformat": 4,
 "nbformat_minor": 2
}
