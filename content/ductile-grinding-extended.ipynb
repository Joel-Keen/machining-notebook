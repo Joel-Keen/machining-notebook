{
 "cells": [
  {
   "cell_type": "markdown",
   "metadata": {},
   "source": [
    "##Ductile Micro Grinding - Extended\n",
    "#Inputs\n",
    "\n",
    "Dc is tool diameter\n",
    "\n",
    "Ae is radial stepover\n",
    "\n",
    "Cc is the grain concentration according to FEPA. C145 for ordinary metal bond, C75 for ordinary resin bond from Haefeli\n",
    "\n",
    "dg is the average grain size in microns, i.e. D33 = 33 microns\n",
    "\n",
    "E is the Modulus of Elasticity, H is git the hardness and K_c is the toughness\n",
    "\n",
    "Vc is tool surface speed\n",
    "\n",
    "Critical chip equations are according to Bifano (1987-1991) and Huang (2020)\n",
    "\n",
    "Bifano $$d_c=0.15\\left(\\frac{E}{H}\\right)\\left(\\frac{K_{C}}{H}\\right)^2$$ \n",
    "\n",
    "Huang $$d_c=8.7\\left(\\frac{H}{E}\\right)^{1/2}\\left(\\frac{K_{C}}{H}\\right)^2$$\n",
    "\n",
    "Maximum critical chip thickness for both is $$h_{cu-max}=\\sqrt{\\frac{4}{C\\cdot r}\\frac{v_w}{v_c}\\sqrt{\\frac{a_e}{d_{eq}}}}$$\n",
    "\n",
    "#TODO\n",
    "\n",
    "Switches for bifano/huang and zahedi/rowe/keen\n",
    "Integrate back end tables of starting parameter sets\n",
    "Plotting across multiple parameter sets"
   ]
  },
  {
   "cell_type": "code",
   "execution_count": 35,
   "metadata": {},
   "outputs": [
    {
     "data": {
      "application/vnd.jupyter.widget-view+json": {
       "model_id": "16a729fe6919465891d9589d50d2345b",
       "version_major": 2,
       "version_minor": 0
      },
      "text/plain": [
       "IntSlider(value=100000, description='Spindle rpm', max=250000, min=10)"
      ]
     },
     "metadata": {},
     "output_type": "display_data"
    },
    {
     "data": {
      "application/vnd.jupyter.widget-view+json": {
       "model_id": "b2e87ef21eda4cd387e7dd79fe5b1309",
       "version_major": 2,
       "version_minor": 0
      },
      "text/plain": [
       "FloatSlider(value=3.0, description='Dc mm', min=0.1)"
      ]
     },
     "metadata": {},
     "output_type": "display_data"
    },
    {
     "data": {
      "application/vnd.jupyter.widget-view+json": {
       "model_id": "dc841bcdb47c47808f4a9bf93734bcf8",
       "version_major": 2,
       "version_minor": 0
      },
      "text/plain": [
       "IntSlider(value=10, description='r chip ratio', max=50, min=2)"
      ]
     },
     "metadata": {},
     "output_type": "display_data"
    },
    {
     "data": {
      "application/vnd.jupyter.widget-view+json": {
       "model_id": "5fbf6212d16c48e1ae899761c8541015",
       "version_major": 2,
       "version_minor": 0
      },
      "text/plain": [
       "FloatLogSlider(value=500.0, description='C g rain density mm^2', max=6.0, min=1.0, step=0.001)"
      ]
     },
     "metadata": {},
     "output_type": "display_data"
    },
    {
     "data": {
      "application/vnd.jupyter.widget-view+json": {
       "model_id": "a4bf945e1ffc460fb0cc765b53c6e71e",
       "version_major": 2,
       "version_minor": 0
      },
      "text/plain": [
       "IntSlider(value=168, description='E GPa', max=1000, min=10)"
      ]
     },
     "metadata": {},
     "output_type": "display_data"
    },
    {
     "data": {
      "application/vnd.jupyter.widget-view+json": {
       "model_id": "df29471758fd417a816b3525e42909d1",
       "version_major": 2,
       "version_minor": 0
      },
      "text/plain": [
       "FloatSlider(value=11.0, description='H GPa', max=80.0, min=1.0)"
      ]
     },
     "metadata": {},
     "output_type": "display_data"
    },
    {
     "data": {
      "application/vnd.jupyter.widget-view+json": {
       "model_id": "4171d20207bf4015b450d800f25d4556",
       "version_major": 2,
       "version_minor": 0
      },
      "text/plain": [
       "FloatSlider(value=0.7, description='Kc MPa.m^1/2', max=20.0, min=0.1, step=0.01)"
      ]
     },
     "metadata": {},
     "output_type": "display_data"
    },
    {
     "data": {
      "application/vnd.jupyter.widget-view+json": {
       "model_id": "2e204aa5e1bd4472a44de6cb854286ce",
       "version_major": 2,
       "version_minor": 0
      },
      "text/plain": [
       "FloatLogSlider(value=0.001, description='Ae mm', max=1.0, min=-6.0, step=0.01)"
      ]
     },
     "metadata": {},
     "output_type": "display_data"
    },
    {
     "data": {
      "application/vnd.jupyter.widget-view+json": {
       "model_id": "beacfa867b05412e89baed0d8e11adcb",
       "version_major": 2,
       "version_minor": 0
      },
      "text/plain": [
       "Button(description='Calculate', style=ButtonStyle())"
      ]
     },
     "metadata": {},
     "output_type": "display_data"
    }
   ],
   "source": [
    "import math\n",
    "import ipywidgets as widgets\n",
    "\n",
    "\n",
    "slider_rpm = widgets.IntSlider(value=100000, min=10, max=250000, description='Spindle rpm')\n",
    "slider_diameter = widgets.FloatSlider(value=3, min=0.1, max=100, step=0.1, description='Dc mm')\n",
    "\n",
    "slider_chip_aspect_ratio = widgets.IntSlider(value=10, min=2, max=50, description='r chip ratio')\n",
    "slider_grain_density = widgets.FloatLogSlider(value=500, base=10, min=1, max=6, step=0.001, description='C grain density mm^2')\n",
    "\n",
    "slider_E = widgets.IntSlider(value=168, min=10, max=1000, step=1, description='E GPa')\n",
    "slider_H = widgets.FloatSlider(value=11, min=1, max=80, step=0.1, description='H GPa')\n",
    "slider_Kc = widgets.FloatSlider(value=0.7, min=0.1, max=20, step=0.01, description='Kc MPa.m^1/2')\n",
    "\n",
    "slider_stepover = widgets.FloatLogSlider(value=0.001, base=10, min=-6, max=1, step = 0.01,description='Ae mm')\n",
    "\n",
    "output_crit_chip_bifano = widgets.FloatText(disabled=True, description='Bi h_cu-max m')\n",
    "output_crit_chip_huang = widgets.FloatText(disabled=True, description='Hu h_cu-max m')\n",
    "output_surface_speed = widgets.FloatText(disabled=True, description='Vc m/min')\n",
    "output_feedrate_side_bifano = widgets.FloatText(disabled=True, description='Bi Vf mm/s')\n",
    "output_feedrate_side_huang = widgets.FloatText(disabled=True, description='Hu Vf mm/s')\n",
    "\n",
    "\n",
    "def compute_surface_speed(*ignore):\n",
    "    output_surface_speed.value = round(math.pi*slider_diameter.value * slider_rpm.value/1000)\n",
    "\n",
    "def compute_crit_chip(*ignore):\n",
    "    E = slider_E.value*1e9\n",
    "    H = slider_H.value*1e9\n",
    "    Kc = slider_Kc.value*1e6\n",
    "    lambda_bifano = 0.15\n",
    "    lambda_huang = 8.7\n",
    "\n",
    "    output_crit_chip_bifano.value = lambda_bifano*(E/H)*((Kc/H)**2)\n",
    "    output_crit_chip_huang.value = lambda_huang*(math.sqrt(H/E))*((Kc/H)**2)\n",
    "\n",
    "def compute_feedrates_crit_chip(*ignore):\n",
    "    surface_speed = output_surface_speed.value/60\n",
    "    crit_chip_bifano = output_crit_chip_bifano.value\n",
    "    crit_chip_huang = output_crit_chip_huang.value\n",
    "    grain_density = slider_grain_density.value*10e6\n",
    "    chip_aspect_ratio = slider_chip_aspect_ratio.value\n",
    "    stepover = slider_stepover.value*1e-3\n",
    "    diameter = slider_diameter.value*1e-3\n",
    "\n",
    "    feedrate_side_bifano_m = round((surface_speed*crit_chip_bifano**2)/((4/(grain_density*chip_aspect_ratio))*math.sqrt(stepover/diameter)),9)\n",
    "\n",
    "    feedrate_side_huang_m = round((surface_speed*crit_chip_huang**2)/((4/(grain_density*chip_aspect_ratio))*math.sqrt(stepover/diameter)),9)\n",
    "    \n",
    "    output_feedrate_side_bifano.value = feedrate_side_bifano_m*1e3\n",
    "\n",
    "    output_feedrate_side_huang.value = feedrate_side_huang_m*1e3\n",
    "\n",
    "\n",
    "# slider_rpm.observe(compute_surface_speed, 'value')\n",
    "# slider_diameter.observe(compute_surface_speed, 'value')\n",
    "\n",
    "# slider_E.observe(compute_crit_chip, 'value')\n",
    "# slider_H.observe(compute_crit_chip, 'value')\n",
    "# slider_Kc.observe(compute_crit_chip, 'value')\n",
    "\n",
    "# output_surface_speed.observe(compute_feedrates_crit_chip, 'value')\n",
    "# slider_diameter.observe(compute_feedrates_crit_chip, 'value')\n",
    "# slider_chip_aspect_ratio.observe(compute_feedrates_crit_chip, 'value')\n",
    "# slider_grain_density.observe(compute_feedrates_crit_chip, 'value')\n",
    "# slider_stepover.observe(compute_feedrates_crit_chip, 'value')\n",
    "# output_crit_chip_bifano.observe(compute_feedrates_crit_chip, 'value')\n",
    "# output_crit_chip_huang.observe(compute_feedrates_crit_chip, 'value')\n",
    "\n",
    "button_calculate = widgets.Button(description=\"Calculate\")\n",
    "\n",
    "def on_button_clicked(b):\n",
    "    compute_surface_speed()\n",
    "    compute_crit_chip()\n",
    "    compute_feedrates_crit_chip()\n",
    "\n",
    "button_calculate.on_click(on_button_clicked)\n",
    "\n",
    "display(slider_rpm)\n",
    "display(slider_diameter)\n",
    "display(slider_chip_aspect_ratio)\n",
    "display(slider_grain_density)\n",
    "display(slider_E)\n",
    "display(slider_H)\n",
    "display(slider_Kc)\n",
    "display(slider_stepover)\n",
    "display(button_calculate)\n",
    "\n",
    "\n"
   ]
  },
  {
   "cell_type": "markdown",
   "metadata": {},
   "source": [
    "#Results"
   ]
  },
  {
   "cell_type": "code",
   "execution_count": 46,
   "metadata": {},
   "outputs": [
    {
     "data": {
      "application/vnd.jupyter.widget-view+json": {
       "model_id": "bd61da039a094a50bdd56a496f6cddff",
       "version_major": 2,
       "version_minor": 0
      },
      "text/plain": [
       "FloatText(value=3393.0, description='Vc m/min', disabled=True)"
      ]
     },
     "metadata": {},
     "output_type": "display_data"
    },
    {
     "data": {
      "application/vnd.jupyter.widget-view+json": {
       "model_id": "12075f2ba8494a90a8b061fcccaa97eb",
       "version_major": 2,
       "version_minor": 0
      },
      "text/plain": [
       "FloatText(value=2.732288156488864e-08, description='Bi h_cu-max m', disabled=True)"
      ]
     },
     "metadata": {},
     "output_type": "display_data"
    },
    {
     "data": {
      "application/vnd.jupyter.widget-view+json": {
       "model_id": "87094cf027774c19a34d4e60560e355a",
       "version_major": 2,
       "version_minor": 0
      },
      "text/plain": [
       "FloatText(value=5.654469963658447e-09, description='Hu h_cu-max m', disabled=True)"
      ]
     },
     "metadata": {},
     "output_type": "display_data"
    },
    {
     "data": {
      "application/vnd.jupyter.widget-view+json": {
       "model_id": "1a2403ff4f4d4224b630e1b10b485d17",
       "version_major": 2,
       "version_minor": 0
      },
      "text/plain": [
       "FloatText(value=2.452576, description='Bi Vf mm/s', disabled=True)"
      ]
     },
     "metadata": {},
     "output_type": "display_data"
    },
    {
     "data": {
      "application/vnd.jupyter.widget-view+json": {
       "model_id": "9485cfb0cd324dcd92c286dd113ca0ff",
       "version_major": 2,
       "version_minor": 0
      },
      "text/plain": [
       "FloatText(value=0.10504, description='Hu Vf mm/s', disabled=True)"
      ]
     },
     "metadata": {},
     "output_type": "display_data"
    },
    {
     "ename": "",
     "evalue": "",
     "output_type": "error",
     "traceback": [
      "\u001b[1;31mThe Kernel crashed while executing code in the current cell or a previous cell. \n",
      "\u001b[1;31mPlease review the code in the cell(s) to identify a possible cause of the failure. \n",
      "\u001b[1;31mClick <a href='https://aka.ms/vscodeJupyterKernelCrash'>here</a> for more info. \n",
      "\u001b[1;31mView Jupyter <a href='command:jupyter.viewOutput'>log</a> for further details."
     ]
    }
   ],
   "source": [
    "display(output_surface_speed)\n",
    "\n",
    "display(output_crit_chip_bifano)\n",
    "display(output_crit_chip_huang)\n",
    "\n",
    "display(output_feedrate_side_bifano)\n",
    "display(output_feedrate_side_huang)\n"
   ]
  },
  {
   "cell_type": "code",
   "execution_count": null,
   "metadata": {},
   "outputs": [],
   "source": []
  }
 ],
 "metadata": {
  "kernelspec": {
   "display_name": "Python 3",
   "language": "python",
   "name": "python3"
  },
  "language_info": {
   "codemirror_mode": {
    "name": "ipython",
    "version": 3
   },
   "file_extension": ".py",
   "mimetype": "text/x-python",
   "name": "python",
   "nbconvert_exporter": "python",
   "pygments_lexer": "ipython3",
   "version": "3.13.1"
  }
 },
 "nbformat": 4,
 "nbformat_minor": 2
}
