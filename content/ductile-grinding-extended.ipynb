{
 "cells": [
  {
   "cell_type": "markdown",
   "metadata": {},
   "source": [
    "##Ductile Micro Grinding - Extended\n",
    "#Inputs\n",
    "\n",
    "Dc is tool diameter\n",
    "\n",
    "Ae is radial stepover\n",
    "\n",
    "Cc is the grain concentration according to FEPA. C145 for ordinary metal bond, C75 for ordinary resin bond from Haefeli\n",
    "\n",
    "dg is the average grain size in microns, i.e. D33 = 33 microns\n",
    "\n",
    "E is the Modulus of Elasticity, H is the hardness and K_c is the toughness\n",
    "\n",
    "Vc is tool surface speed\n",
    "\n",
    "Side and face feedrates are for the primary cutting mode taking into account critical chip thickness and chip thinning"
   ]
  },
  {
   "cell_type": "code",
   "execution_count": 12,
   "metadata": {},
   "outputs": [
    {
     "data": {
      "application/vnd.jupyter.widget-view+json": {
       "model_id": "53f71da3608d43fca3cc6c301eb0d595",
       "version_major": 2,
       "version_minor": 0
      },
      "text/plain": [
       "IntSlider(value=100000, description='Spindle rpm', max=250000, min=10)"
      ]
     },
     "metadata": {},
     "output_type": "display_data"
    },
    {
     "data": {
      "application/vnd.jupyter.widget-view+json": {
       "model_id": "655baf91c4724d0a87417164c316cd11",
       "version_major": 2,
       "version_minor": 0
      },
      "text/plain": [
       "FloatSlider(value=3.0, description='Dc mm', max=10.0, min=0.1)"
      ]
     },
     "metadata": {},
     "output_type": "display_data"
    },
    {
     "data": {
      "application/vnd.jupyter.widget-view+json": {
       "model_id": "dcff830828e842118a9950513fddc2da",
       "version_major": 2,
       "version_minor": 0
      },
      "text/plain": [
       "IntSlider(value=10, description='r (5-15)', max=50, min=2)"
      ]
     },
     "metadata": {},
     "output_type": "display_data"
    },
    {
     "data": {
      "application/vnd.jupyter.widget-view+json": {
       "model_id": "4e8ea48629eb4f9b8e5cf2300ed481d0",
       "version_major": 2,
       "version_minor": 0
      },
      "text/plain": [
       "FloatLogSlider(value=500.0, description='C grain density', max=6.0, min=1.0, step=0.001)"
      ]
     },
     "metadata": {},
     "output_type": "display_data"
    },
    {
     "data": {
      "application/vnd.jupyter.widget-view+json": {
       "model_id": "db1f09da5cc64dba9f751b94854c9ea2",
       "version_major": 2,
       "version_minor": 0
      },
      "text/plain": [
       "FloatLogSlider(value=1e-05, description='h_cu-max', max=0.1, min=-6.0, step=0.01)"
      ]
     },
     "metadata": {},
     "output_type": "display_data"
    },
    {
     "data": {
      "application/vnd.jupyter.widget-view+json": {
       "model_id": "352212b1197346d39d6a0749fa165fe9",
       "version_major": 2,
       "version_minor": 0
      },
      "text/plain": [
       "FloatLogSlider(value=0.001, description='Ae mm', max=1.0, min=-6.0, step=0.01)"
      ]
     },
     "metadata": {},
     "output_type": "display_data"
    }
   ],
   "source": [
    "import math\n",
    "import ipywidgets as widgets\n",
    "\n",
    "\n",
    "slider_rpm = widgets.IntSlider(value=100000, min=10, max=250000, description='Spindle rpm')\n",
    "slider_diameter = widgets.FloatSlider(value=3, min=0.1, max=10, description='Dc mm')\n",
    "\n",
    "slider_chip_aspect_ratio = widgets.IntSlider(value=10, min=2, max=50, description='r (5-15)')\n",
    "slider_grain_density = widgets.FloatLogSlider(value=500, base=10, min=1, max=6, step=0.001, description='C grain density')\n",
    "slider_crit_chip = widgets.FloatLogSlider(value=0.00001, base=10, min=-6, max=0.1, step = 0.01, description='h_cu-max')\n",
    "\n",
    "slider_stepover = widgets.FloatLogSlider(value=0.001, base=10, min=-6, max=1, step = 0.01,description='Ae mm')\n",
    "\n",
    "output_surface_speed = widgets.FloatText(disabled=True, description='Vc m/min')\n",
    "output_feedrate_side = widgets.FloatText(disabled=True, description='Side Vf mm/s')\n",
    "\n",
    "def compute_surface_speed(*ignore):\n",
    "    output_surface_speed.value = round(math.pi*slider_diameter.value * slider_rpm.value/1000)\n",
    "\n",
    "def compute_feedrates_crit_chip(*ignore):\n",
    "    output_feedrate_side.value = round((output_surface_speed.value*slider_crit_chip.value**2)/((4/(slider_grain_density.value*slider_chip_aspect_ratio.value))*math.sqrt(slider_stepover.value/slider_diameter.value)),3)\n",
    "    \n",
    "slider_rpm.observe(compute_surface_speed, 'value')\n",
    "slider_diameter.observe(compute_surface_speed, 'value')\n",
    "\n",
    "slider_rpm.observe(compute_feedrates_crit_chip, 'value')\n",
    "slider_diameter.observe(compute_feedrates_crit_chip, 'value')\n",
    "slider_chip_aspect_ratio.observe(compute_feedrates_crit_chip, 'value')\n",
    "slider_grain_density.observe(compute_feedrates_crit_chip, 'value')\n",
    "slider_crit_chip.observe(compute_feedrates_crit_chip, 'value')\n",
    "slider_stepover.observe(compute_feedrates_crit_chip, 'value')\n",
    "\n",
    "\n",
    "display(slider_rpm)\n",
    "display(slider_diameter)\n",
    "display(slider_chip_aspect_ratio)\n",
    "display(slider_grain_density)\n",
    "display(slider_crit_chip)\n",
    "display(slider_stepover)\n"
   ]
  },
  {
   "cell_type": "markdown",
   "metadata": {},
   "source": [
    "#Results"
   ]
  },
  {
   "cell_type": "code",
   "execution_count": 13,
   "metadata": {},
   "outputs": [
    {
     "data": {
      "application/vnd.jupyter.widget-view+json": {
       "model_id": "def6d84aecac486c816eb501e1e0a572",
       "version_major": 2,
       "version_minor": 0
      },
      "text/plain": [
       "FloatText(value=0.0, description='Vc m/min', disabled=True)"
      ]
     },
     "metadata": {},
     "output_type": "display_data"
    },
    {
     "data": {
      "application/vnd.jupyter.widget-view+json": {
       "model_id": "5d02cf6a1647407282b7fc185c234b3a",
       "version_major": 2,
       "version_minor": 0
      },
      "text/plain": [
       "FloatText(value=0.0, description='Side Vf mm/s', disabled=True)"
      ]
     },
     "metadata": {},
     "output_type": "display_data"
    }
   ],
   "source": [
    "display(output_surface_speed)\n",
    "display(output_feedrate_side)\n"
   ]
  }
 ],
 "metadata": {
  "kernelspec": {
   "display_name": "Python 3",
   "language": "python",
   "name": "python3"
  },
  "language_info": {
   "codemirror_mode": {
    "name": "ipython",
    "version": 3
   },
   "file_extension": ".py",
   "mimetype": "text/x-python",
   "name": "python",
   "nbconvert_exporter": "python",
   "pygments_lexer": "ipython3",
   "version": "3.13.1"
  }
 },
 "nbformat": 4,
 "nbformat_minor": 2
}
