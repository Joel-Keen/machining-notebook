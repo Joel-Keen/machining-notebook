{
 "cells": [
  {
   "cell_type": "markdown",
   "metadata": {},
   "source": [
    "##Ductile Micro Grinding\n",
    "#Inputs\n",
    "\n",
    "Dc is tool diameter\n",
    "\n",
    "r is the ratio of chip width to thickness. TAFAMP ch.5\n",
    "\n",
    "C is cutting edge grain density. TAFAMP ch.5\n",
    "\n",
    "h_cu-max is maximum chip thickness for Bifano's formula\n",
    "\n",
    "Ae is radial stepover\n",
    "\n",
    "Vc is surface speed\n",
    "\n",
    "#TODO\n",
    "\n",
    "Make working initial model\n",
    "Switches for bifano/huang and zahedi/rowe/keen\n",
    "Integrate back end tables of starting parameter sets\n",
    "Plotting across multiple parameter sets"
   ]
  },
  {
   "cell_type": "code",
   "execution_count": null,
   "metadata": {},
   "outputs": [
    {
     "data": {
      "application/vnd.jupyter.widget-view+json": {
       "model_id": "8415557069934c21a0d7a331c6ec69f6",
       "version_major": 2,
       "version_minor": 0
      },
      "text/plain": [
       "IntSlider(value=100000, description='Spindle rpm', max=250000, min=10)"
      ]
     },
     "metadata": {},
     "output_type": "display_data"
    },
    {
     "data": {
      "application/vnd.jupyter.widget-view+json": {
       "model_id": "fb7e1cabadc5461cb13afc234f0be09d",
       "version_major": 2,
       "version_minor": 0
      },
      "text/plain": [
       "FloatSlider(value=3.0, description='Dc mm', max=10.0, min=0.1)"
      ]
     },
     "metadata": {},
     "output_type": "display_data"
    },
    {
     "data": {
      "application/vnd.jupyter.widget-view+json": {
       "model_id": "0d76034dda194abd808af497c1804f5f",
       "version_major": 2,
       "version_minor": 0
      },
      "text/plain": [
       "IntSlider(value=10, description='r (5-15)', max=50, min=2)"
      ]
     },
     "metadata": {},
     "output_type": "display_data"
    },
    {
     "data": {
      "application/vnd.jupyter.widget-view+json": {
       "model_id": "208aaf615f1c4c6795faeec74b015828",
       "version_major": 2,
       "version_minor": 0
      },
      "text/plain": [
       "FloatLogSlider(value=500.0, description='C grain density', max=6.0, min=1.0, step=0.001)"
      ]
     },
     "metadata": {},
     "output_type": "display_data"
    },
    {
     "data": {
      "application/vnd.jupyter.widget-view+json": {
       "model_id": "fe9fbe92fbbb4e42b6ba3a183b0bc148",
       "version_major": 2,
       "version_minor": 0
      },
      "text/plain": [
       "FloatLogSlider(value=1e-05, description='h_cu-max', max=0.1, min=-6.0, step=0.01)"
      ]
     },
     "metadata": {},
     "output_type": "display_data"
    },
    {
     "data": {
      "application/vnd.jupyter.widget-view+json": {
       "model_id": "aa4a4c8e2bf8411896f79242892e2d56",
       "version_major": 2,
       "version_minor": 0
      },
      "text/plain": [
       "FloatLogSlider(value=0.001, description='Ae mm', max=1.0, min=-6.0, step=0.01)"
      ]
     },
     "metadata": {},
     "output_type": "display_data"
    }
   ],
   "source": [
    "import math\n",
    "import ipywidgets as widgets\n",
    "\n",
    "\n",
    "slider_rpm = widgets.IntSlider(value=100000, min=10, max=250000, description='Spindle rpm')\n",
    "slider_diameter = widgets.FloatSlider(value=3, min=0.1, max=10, description='Dc mm')\n",
    "\n",
    "slider_chip_aspect_ratio = widgets.IntSlider(value=10, min=2, max=50, description='r (5-15)')\n",
    "slider_grain_density = widgets.FloatLogSlider(value=500, base=10, min=1, max=6, step=0.001, description='C grain density')\n",
    "slider_crit_chip = widgets.FloatLogSlider(value=0.00001, base=10, min=-6, max=0.1, step = 0.01, description='h_cu-max')\n",
    "\n",
    "slider_stepover = widgets.FloatLogSlider(value=0.001, base=10, min=-6, max=1, step = 0.01,description='Ae mm')\n",
    "\n",
    "output_surface_speed = widgets.FloatText(disabled=True, description='Vc m/min')\n",
    "output_feedrate_side = widgets.FloatText(disabled=True, description='Side Vf mm/s')\n",
    "\n",
    "def compute_surface_speed(*ignore):\n",
    "    output_surface_speed.value = round(math.pi*slider_diameter.value * slider_rpm.value/1000)\n",
    "\n",
    "def compute_feedrates_crit_chip(*ignore):\n",
    "    output_feedrate_side.value = round((output_surface_speed.value*slider_crit_chip.value**2)/((4/(slider_grain_density.value*slider_chip_aspect_ratio.value))*math.sqrt(slider_stepover.value/slider_diameter.value)),3)\n",
    "    6\n",
    "slider_rpm.observe(compute_surface_speed, 'value')\n",
    "slider_diameter.observe(compute_surface_speed, 'value')\n",
    "\n",
    "slider_rpm.observe(compute_feedrates_crit_chip, 'value')\n",
    "slider_diameter.observe(compute_feedrates_crit_chip, 'value')\n",
    "slider_chip_aspect_ratio.observe(compute_feedrates_crit_chip, 'value')\n",
    "slider_grain_density.observe(compute_feedrates_crit_chip, 'value')\n",
    "slider_crit_chip.observe(compute_feedrates_crit_chip, 'value')\n",
    "slider_stepover.observe(compute_feedrates_crit_chip, 'value')\n",
    "\n",
    "\n",
    "display(slider_rpm)\n",
    "display(slider_diameter)\n",
    "display(slider_chip_aspect_ratio)\n",
    "display(slider_grain_density)\n",
    "display(slider_crit_chip)\n",
    "display(slider_stepover)\n"
   ]
  },
  {
   "cell_type": "markdown",
   "metadata": {},
   "source": [
    "#Results"
   ]
  },
  {
   "cell_type": "code",
   "execution_count": 2,
   "metadata": {},
   "outputs": [
    {
     "data": {
      "application/vnd.jupyter.widget-view+json": {
       "model_id": "d821216fa84940debc0d007213a7e9fc",
       "version_major": 2,
       "version_minor": 0
      },
      "text/plain": [
       "FloatText(value=0.0, description='Vc m/min', disabled=True)"
      ]
     },
     "metadata": {},
     "output_type": "display_data"
    },
    {
     "data": {
      "application/vnd.jupyter.widget-view+json": {
       "model_id": "51bac8647a43479bb89cff0974b962d2",
       "version_major": 2,
       "version_minor": 0
      },
      "text/plain": [
       "FloatText(value=0.0, description='Side Vf mm/s', disabled=True)"
      ]
     },
     "metadata": {},
     "output_type": "display_data"
    }
   ],
   "source": [
    "display(output_surface_speed)\n",
    "display(output_feedrate_side)\n"
   ]
  }
 ],
 "metadata": {
  "kernelspec": {
   "display_name": "Python 3",
   "language": "python",
   "name": "python3"
  },
  "language_info": {
   "codemirror_mode": {
    "name": "ipython",
    "version": 3
   },
   "file_extension": ".py",
   "mimetype": "text/x-python",
   "name": "python",
   "nbconvert_exporter": "python",
   "pygments_lexer": "ipython3",
   "version": "3.13.1"
  }
 },
 "nbformat": 4,
 "nbformat_minor": 2
}
