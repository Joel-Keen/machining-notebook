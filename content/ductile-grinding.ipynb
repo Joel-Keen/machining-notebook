{
 "cells": [
  {
   "cell_type": "markdown",
   "metadata": {},
   "source": [
    "##Ductile Micro Grinding\n",
    "#Inputs\n",
    "\n",
    "Dc is tool diameter\n",
    "\n",
    "r is the ratio of chip width to thickness. TAFAMP ch.5\n",
    "\n",
    "C is cutting edge grain density. TAFAMP ch.5\n",
    "\n",
    "h_cu-max is maximum chip thickness for Bifano's formula\n",
    "\n",
    "Ae is radial stepover\n",
    "\n",
    "Vc is surface speed\n",
    "\n",
    "$$h_{cu-max}=\\sqrt{\\frac{4}{C\\cdot r}\\frac{v_w}{v_c}\\sqrt{\\frac{a_e}{d_{eq}}}}$$"
   ]
  },
  {
   "cell_type": "code",
   "execution_count": 7,
   "metadata": {},
   "outputs": [
    {
     "data": {
      "application/vnd.jupyter.widget-view+json": {
       "model_id": "7e03d1c3520e4ef88640fa6ec633211d",
       "version_major": 2,
       "version_minor": 0
      },
      "text/plain": [
       "IntSlider(value=100000, description='Spindle rpm', max=250000, min=10)"
      ]
     },
     "metadata": {},
     "output_type": "display_data"
    },
    {
     "data": {
      "application/vnd.jupyter.widget-view+json": {
       "model_id": "a53b71a6f58d498bbd251a6ba9c4beb3",
       "version_major": 2,
       "version_minor": 0
      },
      "text/plain": [
       "FloatSlider(value=3.0, description='Dc mm', max=10.0, min=0.1)"
      ]
     },
     "metadata": {},
     "output_type": "display_data"
    },
    {
     "data": {
      "application/vnd.jupyter.widget-view+json": {
       "model_id": "5500d55fb78e4295b7cae0203a62e308",
       "version_major": 2,
       "version_minor": 0
      },
      "text/plain": [
       "IntSlider(value=10, description='r (5-15)', max=50, min=2)"
      ]
     },
     "metadata": {},
     "output_type": "display_data"
    },
    {
     "data": {
      "application/vnd.jupyter.widget-view+json": {
       "model_id": "ef2f5d0786da4c6a9d8f41f0db13dee9",
       "version_major": 2,
       "version_minor": 0
      },
      "text/plain": [
       "FloatLogSlider(value=500.0, description='C grain density', max=6.0, min=1.0, step=0.001)"
      ]
     },
     "metadata": {},
     "output_type": "display_data"
    },
    {
     "data": {
      "application/vnd.jupyter.widget-view+json": {
       "model_id": "d1f6400da84f4e3aacbf2a5a65a94e05",
       "version_major": 2,
       "version_minor": 0
      },
      "text/plain": [
       "FloatLogSlider(value=1e-08, description='h_cu-max m', max=-4.0, min=-10.0, step=0.01)"
      ]
     },
     "metadata": {},
     "output_type": "display_data"
    },
    {
     "data": {
      "application/vnd.jupyter.widget-view+json": {
       "model_id": "0be2b24a5b834153838140cff6a926da",
       "version_major": 2,
       "version_minor": 0
      },
      "text/plain": [
       "FloatLogSlider(value=0.001, description='Ae mm', max=1.0, min=-6.0, step=0.01)"
      ]
     },
     "metadata": {},
     "output_type": "display_data"
    }
   ],
   "source": [
    "import math\n",
    "import ipywidgets as widgets\n",
    "\n",
    "\n",
    "slider_rpm = widgets.IntSlider(value=100000, min=10, max=250000, description='Spindle rpm')\n",
    "slider_diameter = widgets.FloatSlider(value=3, min=0.1, max=100, step=0.1, description='Dc mm')\n",
    "\n",
    "slider_chip_aspect_ratio = widgets.IntSlider(value=10, min=2, max=50, description='r (5-15)')\n",
    "slider_grain_density = widgets.FloatLogSlider(value=500, base=10, min=1, max=6, step=0.001, description='C grain density')\n",
    "slider_crit_chip = widgets.FloatLogSlider(value=1e-8, base=10, min=-10, max=-4, step = 0.01, description='h_cu-max m')\n",
    "\n",
    "slider_stepover = widgets.FloatLogSlider(value=0.001, base=10, min=-6, max=1, step = 0.01,description='Ae mm')\n",
    "\n",
    "output_surface_speed = widgets.FloatText(disabled=True, description='Vc m/min')\n",
    "output_feedrate_side = widgets.FloatText(disabled=True, description='Side Vf mm/s')\n",
    "\n",
    "def compute_surface_speed(*ignore):\n",
    "    output_surface_speed.value = round(math.pi*slider_diameter.value * slider_rpm.value/1000)\n",
    "\n",
    "def compute_feedrates_crit_chip(*ignore):\n",
    "    surface_speed = output_surface_speed.value/60\n",
    "    crit_chip = slider_crit_chip.value\n",
    "    grain_density = slider_grain_density.value*10e6\n",
    "    chip_aspect_ratio = slider_chip_aspect_ratio.value\n",
    "    stepover = slider_stepover.value*1e-3\n",
    "    diameter = slider_diameter.value*1e-3\n",
    "\n",
    "    output_feedrate_side_m = round((surface_speed*crit_chip**2)/((4/(grain_density*chip_aspect_ratio))*math.sqrt(stepover/diameter)),9)\n",
    "\n",
    "    output_feedrate_side.value = output_feedrate_side_m*1e3\n",
    "    \n",
    "\n",
    "slider_rpm.observe(compute_surface_speed, 'value')\n",
    "slider_diameter.observe(compute_surface_speed, 'value')\n",
    "\n",
    "slider_rpm.observe(compute_feedrates_crit_chip, 'value')\n",
    "slider_diameter.observe(compute_feedrates_crit_chip, 'value')\n",
    "slider_chip_aspect_ratio.observe(compute_feedrates_crit_chip, 'value')\n",
    "slider_grain_density.observe(compute_feedrates_crit_chip, 'value')\n",
    "slider_crit_chip.observe(compute_feedrates_crit_chip, 'value')\n",
    "slider_stepover.observe(compute_feedrates_crit_chip, 'value')\n",
    "\n",
    "\n",
    "display(slider_rpm)\n",
    "display(slider_diameter)\n",
    "display(slider_chip_aspect_ratio)\n",
    "display(slider_grain_density)\n",
    "display(slider_crit_chip)\n",
    "display(slider_stepover)\n"
   ]
  },
  {
   "cell_type": "markdown",
   "metadata": {},
   "source": [
    "#Results"
   ]
  },
  {
   "cell_type": "code",
   "execution_count": 8,
   "metadata": {},
   "outputs": [
    {
     "data": {
      "application/vnd.jupyter.widget-view+json": {
       "model_id": "6ebfd7121e22429eadcc341a16de5dc5",
       "version_major": 2,
       "version_minor": 0
      },
      "text/plain": [
       "FloatText(value=1178.0, description='Vc m/min', disabled=True)"
      ]
     },
     "metadata": {},
     "output_type": "display_data"
    },
    {
     "data": {
      "application/vnd.jupyter.widget-view+json": {
       "model_id": "da3867501b9040d0ba760097c568ddfe",
       "version_major": 2,
       "version_minor": 0
      },
      "text/plain": [
       "FloatText(value=1.344295, description='Side Vf mm/s', disabled=True)"
      ]
     },
     "metadata": {},
     "output_type": "display_data"
    }
   ],
   "source": [
    "display(output_surface_speed)\n",
    "display(output_feedrate_side)\n"
   ]
  }
 ],
 "metadata": {
  "kernelspec": {
   "display_name": "Python 3",
   "language": "python",
   "name": "python3"
  },
  "language_info": {
   "codemirror_mode": {
    "name": "ipython",
    "version": 3
   },
   "file_extension": ".py",
   "mimetype": "text/x-python",
   "name": "python",
   "nbconvert_exporter": "python",
   "pygments_lexer": "ipython3",
   "version": "3.13.1"
  }
 },
 "nbformat": 4,
 "nbformat_minor": 2
}
