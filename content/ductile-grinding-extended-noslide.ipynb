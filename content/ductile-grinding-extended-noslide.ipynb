{
 "cells": [
  {
   "cell_type": "markdown",
   "metadata": {},
   "source": [
    "##Ductile Micro Grinding - Extended\n",
    "#Inputs\n",
    "\n",
    "Dc is tool diameter\n",
    "\n",
    "Ae is radial stepover\n",
    "\n",
    "Cc is the grain concentration according to FEPA. C145 for ordinary metal bond, C75 for ordinary resin bond from Haefeli\n",
    "\n",
    "dg is the average grain size in microns, i.e. D33 = 33 microns\n",
    "\n",
    "E is the Modulus of Elasticity, H is git the hardness and K_c is the toughness\n",
    "\n",
    "Vc is tool surface speed\n",
    "\n",
    "Critical chip equations are according to Bifano (1987-1991) and Huang (2020)\n",
    "\n",
    "Bifano $$d_c=0.15\\left(\\frac{E}{H}\\right)\\left(\\frac{K_{C}}{H}\\right)^2$$ \n",
    "\n",
    "Huang $$d_c=8.7\\left(\\frac{H}{E}\\right)^{1/2}\\left(\\frac{K_{C}}{H}\\right)^2$$\n",
    "\n",
    "Maximum critical chip thickness for both is $$h_{cu-max}=\\sqrt{\\frac{4}{C\\cdot r}\\frac{v_w}{v_c}\\sqrt{\\frac{a_e}{d_{eq}}}}$$\n",
    "\n",
    "#TODO\n",
    "\n",
    "Switches for bifano/huang and zahedi/rowe/keen\n",
    "Integrate back end tables of starting parameter sets\n",
    "Plotting across multiple parameter sets"
   ]
  },
  {
   "cell_type": "code",
   "execution_count": 28,
   "metadata": {},
   "outputs": [
    {
     "data": {
      "application/vnd.jupyter.widget-view+json": {
       "model_id": "2b13d326d6fe491180f4bfb108585705",
       "version_major": 2,
       "version_minor": 0
      },
      "text/plain": [
       "IntText(value=100000, description='Spindle rpm')"
      ]
     },
     "metadata": {},
     "output_type": "display_data"
    },
    {
     "data": {
      "application/vnd.jupyter.widget-view+json": {
       "model_id": "db79650ee4b24c208008bae674a25839",
       "version_major": 2,
       "version_minor": 0
      },
      "text/plain": [
       "FloatText(value=3.0, description='Dc mm')"
      ]
     },
     "metadata": {},
     "output_type": "display_data"
    },
    {
     "data": {
      "application/vnd.jupyter.widget-view+json": {
       "model_id": "ab0eb1dcb5a9459e9a8519ce54a42f2f",
       "version_major": 2,
       "version_minor": 0
      },
      "text/plain": [
       "IntText(value=168, description='E GPa')"
      ]
     },
     "metadata": {},
     "output_type": "display_data"
    },
    {
     "data": {
      "application/vnd.jupyter.widget-view+json": {
       "model_id": "302057ed3d3341cf9cd1cacab37f3d70",
       "version_major": 2,
       "version_minor": 0
      },
      "text/plain": [
       "FloatText(value=11.0, description='H GPa')"
      ]
     },
     "metadata": {},
     "output_type": "display_data"
    },
    {
     "data": {
      "application/vnd.jupyter.widget-view+json": {
       "model_id": "664ced5e6d734112a99e5da86e5323ae",
       "version_major": 2,
       "version_minor": 0
      },
      "text/plain": [
       "FloatText(value=0.7, description='Kc MPa.m^1/2')"
      ]
     },
     "metadata": {},
     "output_type": "display_data"
    },
    {
     "data": {
      "application/vnd.jupyter.widget-view+json": {
       "model_id": "719766d078fc4f6f97045170328e79b3",
       "version_major": 2,
       "version_minor": 0
      },
      "text/plain": [
       "IntText(value=10, description='r chip ratio')"
      ]
     },
     "metadata": {},
     "output_type": "display_data"
    },
    {
     "data": {
      "application/vnd.jupyter.widget-view+json": {
       "model_id": "c5e026c2bfd74381a1a04ac52a199b6c",
       "version_major": 2,
       "version_minor": 0
      },
      "text/plain": [
       "FloatText(value=500.0, description='C grain density mm^2')"
      ]
     },
     "metadata": {},
     "output_type": "display_data"
    },
    {
     "data": {
      "application/vnd.jupyter.widget-view+json": {
       "model_id": "6bd236ff1523406e83ca8255d1a9fe94",
       "version_major": 2,
       "version_minor": 0
      },
      "text/plain": [
       "FloatText(value=0.001, description='Ae mm')"
      ]
     },
     "metadata": {},
     "output_type": "display_data"
    },
    {
     "data": {
      "application/vnd.jupyter.widget-view+json": {
       "model_id": "54c1b402d3b146e0abded8a3c111e30d",
       "version_major": 2,
       "version_minor": 0
      },
      "text/plain": [
       "Button(description='Calculate', style=ButtonStyle())"
      ]
     },
     "metadata": {},
     "output_type": "display_data"
    },
    {
     "data": {
      "application/vnd.jupyter.widget-view+json": {
       "model_id": "96f481b6896b44f7a6960815d55b4fab",
       "version_major": 2,
       "version_minor": 0
      },
      "text/plain": [
       "FloatText(value=0.0, description='Vc m/min', disabled=True)"
      ]
     },
     "metadata": {},
     "output_type": "display_data"
    },
    {
     "data": {
      "application/vnd.jupyter.widget-view+json": {
       "model_id": "78ab3f46e2ce489db6f15419497a62e7",
       "version_major": 2,
       "version_minor": 0
      },
      "text/plain": [
       "FloatText(value=0.0, description='Bi h_cu-max m', disabled=True)"
      ]
     },
     "metadata": {},
     "output_type": "display_data"
    },
    {
     "data": {
      "application/vnd.jupyter.widget-view+json": {
       "model_id": "595c46e907d44d3a8b5bb1c9299c7f7e",
       "version_major": 2,
       "version_minor": 0
      },
      "text/plain": [
       "FloatText(value=0.0, description='Hu h_cu-max m', disabled=True)"
      ]
     },
     "metadata": {},
     "output_type": "display_data"
    },
    {
     "data": {
      "application/vnd.jupyter.widget-view+json": {
       "model_id": "ba5c5ef0d7b845a8856a9610a909e9bd",
       "version_major": 2,
       "version_minor": 0
      },
      "text/plain": [
       "FloatText(value=0.0, description='Bi Vf mm/s', disabled=True)"
      ]
     },
     "metadata": {},
     "output_type": "display_data"
    },
    {
     "data": {
      "application/vnd.jupyter.widget-view+json": {
       "model_id": "691bf391944d463bb39799a8d856c2aa",
       "version_major": 2,
       "version_minor": 0
      },
      "text/plain": [
       "FloatText(value=0.0, description='Hu Vf mm/s', disabled=True)"
      ]
     },
     "metadata": {},
     "output_type": "display_data"
    },
    {
     "data": {
      "application/vnd.jupyter.widget-view+json": {
       "model_id": "2b13d326d6fe491180f4bfb108585705",
       "version_major": 2,
       "version_minor": 0
      },
      "text/plain": [
       "IntText(value=100000, description='Spindle rpm')"
      ]
     },
     "metadata": {},
     "output_type": "display_data"
    },
    {
     "data": {
      "application/vnd.jupyter.widget-view+json": {
       "model_id": "db79650ee4b24c208008bae674a25839",
       "version_major": 2,
       "version_minor": 0
      },
      "text/plain": [
       "FloatText(value=3.0, description='Dc mm')"
      ]
     },
     "metadata": {},
     "output_type": "display_data"
    },
    {
     "data": {
      "application/vnd.jupyter.widget-view+json": {
       "model_id": "ab0eb1dcb5a9459e9a8519ce54a42f2f",
       "version_major": 2,
       "version_minor": 0
      },
      "text/plain": [
       "IntText(value=168, description='E GPa')"
      ]
     },
     "metadata": {},
     "output_type": "display_data"
    },
    {
     "data": {
      "application/vnd.jupyter.widget-view+json": {
       "model_id": "302057ed3d3341cf9cd1cacab37f3d70",
       "version_major": 2,
       "version_minor": 0
      },
      "text/plain": [
       "FloatText(value=11.0, description='H GPa')"
      ]
     },
     "metadata": {},
     "output_type": "display_data"
    },
    {
     "data": {
      "application/vnd.jupyter.widget-view+json": {
       "model_id": "664ced5e6d734112a99e5da86e5323ae",
       "version_major": 2,
       "version_minor": 0
      },
      "text/plain": [
       "FloatText(value=0.7, description='Kc MPa.m^1/2')"
      ]
     },
     "metadata": {},
     "output_type": "display_data"
    },
    {
     "data": {
      "application/vnd.jupyter.widget-view+json": {
       "model_id": "719766d078fc4f6f97045170328e79b3",
       "version_major": 2,
       "version_minor": 0
      },
      "text/plain": [
       "IntText(value=10, description='r chip ratio')"
      ]
     },
     "metadata": {},
     "output_type": "display_data"
    },
    {
     "data": {
      "application/vnd.jupyter.widget-view+json": {
       "model_id": "c5e026c2bfd74381a1a04ac52a199b6c",
       "version_major": 2,
       "version_minor": 0
      },
      "text/plain": [
       "FloatText(value=500.0, description='C grain density mm^2')"
      ]
     },
     "metadata": {},
     "output_type": "display_data"
    },
    {
     "data": {
      "application/vnd.jupyter.widget-view+json": {
       "model_id": "6bd236ff1523406e83ca8255d1a9fe94",
       "version_major": 2,
       "version_minor": 0
      },
      "text/plain": [
       "FloatText(value=0.001, description='Ae mm')"
      ]
     },
     "metadata": {},
     "output_type": "display_data"
    },
    {
     "data": {
      "application/vnd.jupyter.widget-view+json": {
       "model_id": "96f481b6896b44f7a6960815d55b4fab",
       "version_major": 2,
       "version_minor": 0
      },
      "text/plain": [
       "FloatText(value=942.0, description='Vc m/min', disabled=True)"
      ]
     },
     "metadata": {},
     "output_type": "display_data"
    },
    {
     "data": {
      "application/vnd.jupyter.widget-view+json": {
       "model_id": "78ab3f46e2ce489db6f15419497a62e7",
       "version_major": 2,
       "version_minor": 0
      },
      "text/plain": [
       "FloatText(value=9.277235161532683e-09, description='Bi h_cu-max m', disabled=True)"
      ]
     },
     "metadata": {},
     "output_type": "display_data"
    },
    {
     "data": {
      "application/vnd.jupyter.widget-view+json": {
       "model_id": "595c46e907d44d3a8b5bb1c9299c7f7e",
       "version_major": 2,
       "version_minor": 0
      },
      "text/plain": [
       "FloatText(value=9.015123156656093e-09, description='Hu h_cu-max m', disabled=True)"
      ]
     },
     "metadata": {},
     "output_type": "display_data"
    },
    {
     "data": {
      "application/vnd.jupyter.widget-view+json": {
       "model_id": "ba5c5ef0d7b845a8856a9610a909e9bd",
       "version_major": 2,
       "version_minor": 0
      },
      "text/plain": [
       "FloatText(value=0.92514, description='Bi Vf mm/s', disabled=True)"
      ]
     },
     "metadata": {},
     "output_type": "display_data"
    },
    {
     "data": {
      "application/vnd.jupyter.widget-view+json": {
       "model_id": "691bf391944d463bb39799a8d856c2aa",
       "version_major": 2,
       "version_minor": 0
      },
      "text/plain": [
       "FloatText(value=0.873602, description='Hu Vf mm/s', disabled=True)"
      ]
     },
     "metadata": {},
     "output_type": "display_data"
    },
    {
     "data": {
      "application/vnd.jupyter.widget-view+json": {
       "model_id": "2b13d326d6fe491180f4bfb108585705",
       "version_major": 2,
       "version_minor": 0
      },
      "text/plain": [
       "IntText(value=100000, description='Spindle rpm')"
      ]
     },
     "metadata": {},
     "output_type": "display_data"
    },
    {
     "data": {
      "application/vnd.jupyter.widget-view+json": {
       "model_id": "db79650ee4b24c208008bae674a25839",
       "version_major": 2,
       "version_minor": 0
      },
      "text/plain": [
       "FloatText(value=3.0, description='Dc mm')"
      ]
     },
     "metadata": {},
     "output_type": "display_data"
    },
    {
     "data": {
      "application/vnd.jupyter.widget-view+json": {
       "model_id": "ab0eb1dcb5a9459e9a8519ce54a42f2f",
       "version_major": 2,
       "version_minor": 0
      },
      "text/plain": [
       "IntText(value=168, description='E GPa')"
      ]
     },
     "metadata": {},
     "output_type": "display_data"
    },
    {
     "data": {
      "application/vnd.jupyter.widget-view+json": {
       "model_id": "302057ed3d3341cf9cd1cacab37f3d70",
       "version_major": 2,
       "version_minor": 0
      },
      "text/plain": [
       "FloatText(value=11.0, description='H GPa')"
      ]
     },
     "metadata": {},
     "output_type": "display_data"
    },
    {
     "data": {
      "application/vnd.jupyter.widget-view+json": {
       "model_id": "664ced5e6d734112a99e5da86e5323ae",
       "version_major": 2,
       "version_minor": 0
      },
      "text/plain": [
       "FloatText(value=0.7, description='Kc MPa.m^1/2')"
      ]
     },
     "metadata": {},
     "output_type": "display_data"
    },
    {
     "data": {
      "application/vnd.jupyter.widget-view+json": {
       "model_id": "719766d078fc4f6f97045170328e79b3",
       "version_major": 2,
       "version_minor": 0
      },
      "text/plain": [
       "IntText(value=10, description='r chip ratio')"
      ]
     },
     "metadata": {},
     "output_type": "display_data"
    },
    {
     "data": {
      "application/vnd.jupyter.widget-view+json": {
       "model_id": "c5e026c2bfd74381a1a04ac52a199b6c",
       "version_major": 2,
       "version_minor": 0
      },
      "text/plain": [
       "FloatText(value=500.0, description='C grain density mm^2')"
      ]
     },
     "metadata": {},
     "output_type": "display_data"
    },
    {
     "data": {
      "application/vnd.jupyter.widget-view+json": {
       "model_id": "6bd236ff1523406e83ca8255d1a9fe94",
       "version_major": 2,
       "version_minor": 0
      },
      "text/plain": [
       "FloatText(value=0.001, description='Ae mm')"
      ]
     },
     "metadata": {},
     "output_type": "display_data"
    },
    {
     "data": {
      "application/vnd.jupyter.widget-view+json": {
       "model_id": "96f481b6896b44f7a6960815d55b4fab",
       "version_major": 2,
       "version_minor": 0
      },
      "text/plain": [
       "FloatText(value=942.0, description='Vc m/min', disabled=True)"
      ]
     },
     "metadata": {},
     "output_type": "display_data"
    },
    {
     "data": {
      "application/vnd.jupyter.widget-view+json": {
       "model_id": "78ab3f46e2ce489db6f15419497a62e7",
       "version_major": 2,
       "version_minor": 0
      },
      "text/plain": [
       "FloatText(value=9.277235161532683e-09, description='Bi h_cu-max m', disabled=True)"
      ]
     },
     "metadata": {},
     "output_type": "display_data"
    },
    {
     "data": {
      "application/vnd.jupyter.widget-view+json": {
       "model_id": "595c46e907d44d3a8b5bb1c9299c7f7e",
       "version_major": 2,
       "version_minor": 0
      },
      "text/plain": [
       "FloatText(value=9.015123156656093e-09, description='Hu h_cu-max m', disabled=True)"
      ]
     },
     "metadata": {},
     "output_type": "display_data"
    },
    {
     "data": {
      "application/vnd.jupyter.widget-view+json": {
       "model_id": "ba5c5ef0d7b845a8856a9610a909e9bd",
       "version_major": 2,
       "version_minor": 0
      },
      "text/plain": [
       "FloatText(value=0.92514, description='Bi Vf mm/s', disabled=True)"
      ]
     },
     "metadata": {},
     "output_type": "display_data"
    },
    {
     "data": {
      "application/vnd.jupyter.widget-view+json": {
       "model_id": "691bf391944d463bb39799a8d856c2aa",
       "version_major": 2,
       "version_minor": 0
      },
      "text/plain": [
       "FloatText(value=0.873602, description='Hu Vf mm/s', disabled=True)"
      ]
     },
     "metadata": {},
     "output_type": "display_data"
    },
    {
     "data": {
      "application/vnd.jupyter.widget-view+json": {
       "model_id": "2b13d326d6fe491180f4bfb108585705",
       "version_major": 2,
       "version_minor": 0
      },
      "text/plain": [
       "IntText(value=20000, description='Spindle rpm')"
      ]
     },
     "metadata": {},
     "output_type": "display_data"
    },
    {
     "data": {
      "application/vnd.jupyter.widget-view+json": {
       "model_id": "db79650ee4b24c208008bae674a25839",
       "version_major": 2,
       "version_minor": 0
      },
      "text/plain": [
       "FloatText(value=54.0, description='Dc mm')"
      ]
     },
     "metadata": {},
     "output_type": "display_data"
    },
    {
     "data": {
      "application/vnd.jupyter.widget-view+json": {
       "model_id": "ab0eb1dcb5a9459e9a8519ce54a42f2f",
       "version_major": 2,
       "version_minor": 0
      },
      "text/plain": [
       "IntText(value=173, description='E GPa')"
      ]
     },
     "metadata": {},
     "output_type": "display_data"
    },
    {
     "data": {
      "application/vnd.jupyter.widget-view+json": {
       "model_id": "302057ed3d3341cf9cd1cacab37f3d70",
       "version_major": 2,
       "version_minor": 0
      },
      "text/plain": [
       "FloatText(value=6.3, description='H GPa')"
      ]
     },
     "metadata": {},
     "output_type": "display_data"
    },
    {
     "data": {
      "application/vnd.jupyter.widget-view+json": {
       "model_id": "664ced5e6d734112a99e5da86e5323ae",
       "version_major": 2,
       "version_minor": 0
      },
      "text/plain": [
       "FloatText(value=1.7, description='Kc MPa.m^1/2')"
      ]
     },
     "metadata": {},
     "output_type": "display_data"
    },
    {
     "data": {
      "application/vnd.jupyter.widget-view+json": {
       "model_id": "719766d078fc4f6f97045170328e79b3",
       "version_major": 2,
       "version_minor": 0
      },
      "text/plain": [
       "IntText(value=10, description='r chip ratio')"
      ]
     },
     "metadata": {},
     "output_type": "display_data"
    },
    {
     "data": {
      "application/vnd.jupyter.widget-view+json": {
       "model_id": "c5e026c2bfd74381a1a04ac52a199b6c",
       "version_major": 2,
       "version_minor": 0
      },
      "text/plain": [
       "FloatText(value=10.0, description='C grain density mm^2')"
      ]
     },
     "metadata": {},
     "output_type": "display_data"
    },
    {
     "data": {
      "application/vnd.jupyter.widget-view+json": {
       "model_id": "6bd236ff1523406e83ca8255d1a9fe94",
       "version_major": 2,
       "version_minor": 0
      },
      "text/plain": [
       "FloatText(value=0.01, description='Ae mm')"
      ]
     },
     "metadata": {},
     "output_type": "display_data"
    },
    {
     "data": {
      "application/vnd.jupyter.widget-view+json": {
       "model_id": "96f481b6896b44f7a6960815d55b4fab",
       "version_major": 2,
       "version_minor": 0
      },
      "text/plain": [
       "FloatText(value=3393.0, description='Vc m/min', disabled=True)"
      ]
     },
     "metadata": {},
     "output_type": "display_data"
    },
    {
     "data": {
      "application/vnd.jupyter.widget-view+json": {
       "model_id": "78ab3f46e2ce489db6f15419497a62e7",
       "version_major": 2,
       "version_minor": 0
      },
      "text/plain": [
       "FloatText(value=2.999256139845708e-07, description='Bi h_cu-max m', disabled=True)"
      ]
     },
     "metadata": {},
     "output_type": "display_data"
    },
    {
     "data": {
      "application/vnd.jupyter.widget-view+json": {
       "model_id": "595c46e907d44d3a8b5bb1c9299c7f7e",
       "version_major": 2,
       "version_minor": 0
      },
      "text/plain": [
       "FloatText(value=1.208880075325843e-07, description='Hu h_cu-max m', disabled=True)"
      ]
     },
     "metadata": {},
     "output_type": "display_data"
    },
    {
     "data": {
      "application/vnd.jupyter.widget-view+json": {
       "model_id": "ba5c5ef0d7b845a8856a9610a909e9bd",
       "version_major": 2,
       "version_minor": 0
      },
      "text/plain": [
       "FloatText(value=93.45372400000001, description='Bi Vf mm/s', disabled=True)"
      ]
     },
     "metadata": {},
     "output_type": "display_data"
    },
    {
     "data": {
      "application/vnd.jupyter.widget-view+json": {
       "model_id": "691bf391944d463bb39799a8d856c2aa",
       "version_major": 2,
       "version_minor": 0
      },
      "text/plain": [
       "FloatText(value=15.182243, description='Hu Vf mm/s', disabled=True)"
      ]
     },
     "metadata": {},
     "output_type": "display_data"
    },
    {
     "data": {
      "application/vnd.jupyter.widget-view+json": {
       "model_id": "2b13d326d6fe491180f4bfb108585705",
       "version_major": 2,
       "version_minor": 0
      },
      "text/plain": [
       "IntText(value=20000, description='Spindle rpm')"
      ]
     },
     "metadata": {},
     "output_type": "display_data"
    },
    {
     "data": {
      "application/vnd.jupyter.widget-view+json": {
       "model_id": "db79650ee4b24c208008bae674a25839",
       "version_major": 2,
       "version_minor": 0
      },
      "text/plain": [
       "FloatText(value=54.0, description='Dc mm')"
      ]
     },
     "metadata": {},
     "output_type": "display_data"
    },
    {
     "data": {
      "application/vnd.jupyter.widget-view+json": {
       "model_id": "ab0eb1dcb5a9459e9a8519ce54a42f2f",
       "version_major": 2,
       "version_minor": 0
      },
      "text/plain": [
       "IntText(value=173, description='E GPa')"
      ]
     },
     "metadata": {},
     "output_type": "display_data"
    },
    {
     "data": {
      "application/vnd.jupyter.widget-view+json": {
       "model_id": "302057ed3d3341cf9cd1cacab37f3d70",
       "version_major": 2,
       "version_minor": 0
      },
      "text/plain": [
       "FloatText(value=6.3, description='H GPa')"
      ]
     },
     "metadata": {},
     "output_type": "display_data"
    },
    {
     "data": {
      "application/vnd.jupyter.widget-view+json": {
       "model_id": "664ced5e6d734112a99e5da86e5323ae",
       "version_major": 2,
       "version_minor": 0
      },
      "text/plain": [
       "FloatText(value=1.7, description='Kc MPa.m^1/2')"
      ]
     },
     "metadata": {},
     "output_type": "display_data"
    },
    {
     "data": {
      "application/vnd.jupyter.widget-view+json": {
       "model_id": "719766d078fc4f6f97045170328e79b3",
       "version_major": 2,
       "version_minor": 0
      },
      "text/plain": [
       "IntText(value=10, description='r chip ratio')"
      ]
     },
     "metadata": {},
     "output_type": "display_data"
    },
    {
     "data": {
      "application/vnd.jupyter.widget-view+json": {
       "model_id": "c5e026c2bfd74381a1a04ac52a199b6c",
       "version_major": 2,
       "version_minor": 0
      },
      "text/plain": [
       "FloatText(value=10.0, description='C grain density mm^2')"
      ]
     },
     "metadata": {},
     "output_type": "display_data"
    },
    {
     "data": {
      "application/vnd.jupyter.widget-view+json": {
       "model_id": "6bd236ff1523406e83ca8255d1a9fe94",
       "version_major": 2,
       "version_minor": 0
      },
      "text/plain": [
       "FloatText(value=0.01, description='Ae mm')"
      ]
     },
     "metadata": {},
     "output_type": "display_data"
    },
    {
     "data": {
      "application/vnd.jupyter.widget-view+json": {
       "model_id": "96f481b6896b44f7a6960815d55b4fab",
       "version_major": 2,
       "version_minor": 0
      },
      "text/plain": [
       "FloatText(value=3393.0, description='Vc m/min', disabled=True)"
      ]
     },
     "metadata": {},
     "output_type": "display_data"
    },
    {
     "data": {
      "application/vnd.jupyter.widget-view+json": {
       "model_id": "78ab3f46e2ce489db6f15419497a62e7",
       "version_major": 2,
       "version_minor": 0
      },
      "text/plain": [
       "FloatText(value=2.999256139845708e-07, description='Bi h_cu-max m', disabled=True)"
      ]
     },
     "metadata": {},
     "output_type": "display_data"
    },
    {
     "data": {
      "application/vnd.jupyter.widget-view+json": {
       "model_id": "595c46e907d44d3a8b5bb1c9299c7f7e",
       "version_major": 2,
       "version_minor": 0
      },
      "text/plain": [
       "FloatText(value=1.208880075325843e-07, description='Hu h_cu-max m', disabled=True)"
      ]
     },
     "metadata": {},
     "output_type": "display_data"
    },
    {
     "data": {
      "application/vnd.jupyter.widget-view+json": {
       "model_id": "ba5c5ef0d7b845a8856a9610a909e9bd",
       "version_major": 2,
       "version_minor": 0
      },
      "text/plain": [
       "FloatText(value=93.45372400000001, description='Bi Vf mm/s', disabled=True)"
      ]
     },
     "metadata": {},
     "output_type": "display_data"
    },
    {
     "data": {
      "application/vnd.jupyter.widget-view+json": {
       "model_id": "691bf391944d463bb39799a8d856c2aa",
       "version_major": 2,
       "version_minor": 0
      },
      "text/plain": [
       "FloatText(value=15.182243, description='Hu Vf mm/s', disabled=True)"
      ]
     },
     "metadata": {},
     "output_type": "display_data"
    },
    {
     "data": {
      "application/vnd.jupyter.widget-view+json": {
       "model_id": "2b13d326d6fe491180f4bfb108585705",
       "version_major": 2,
       "version_minor": 0
      },
      "text/plain": [
       "IntText(value=20000, description='Spindle rpm')"
      ]
     },
     "metadata": {},
     "output_type": "display_data"
    },
    {
     "data": {
      "application/vnd.jupyter.widget-view+json": {
       "model_id": "db79650ee4b24c208008bae674a25839",
       "version_major": 2,
       "version_minor": 0
      },
      "text/plain": [
       "FloatText(value=54.0, description='Dc mm')"
      ]
     },
     "metadata": {},
     "output_type": "display_data"
    },
    {
     "data": {
      "application/vnd.jupyter.widget-view+json": {
       "model_id": "ab0eb1dcb5a9459e9a8519ce54a42f2f",
       "version_major": 2,
       "version_minor": 0
      },
      "text/plain": [
       "IntText(value=173, description='E GPa')"
      ]
     },
     "metadata": {},
     "output_type": "display_data"
    },
    {
     "data": {
      "application/vnd.jupyter.widget-view+json": {
       "model_id": "302057ed3d3341cf9cd1cacab37f3d70",
       "version_major": 2,
       "version_minor": 0
      },
      "text/plain": [
       "FloatText(value=6.3, description='H GPa')"
      ]
     },
     "metadata": {},
     "output_type": "display_data"
    },
    {
     "data": {
      "application/vnd.jupyter.widget-view+json": {
       "model_id": "664ced5e6d734112a99e5da86e5323ae",
       "version_major": 2,
       "version_minor": 0
      },
      "text/plain": [
       "FloatText(value=1.7, description='Kc MPa.m^1/2')"
      ]
     },
     "metadata": {},
     "output_type": "display_data"
    },
    {
     "data": {
      "application/vnd.jupyter.widget-view+json": {
       "model_id": "719766d078fc4f6f97045170328e79b3",
       "version_major": 2,
       "version_minor": 0
      },
      "text/plain": [
       "IntText(value=10, description='r chip ratio')"
      ]
     },
     "metadata": {},
     "output_type": "display_data"
    },
    {
     "data": {
      "application/vnd.jupyter.widget-view+json": {
       "model_id": "c5e026c2bfd74381a1a04ac52a199b6c",
       "version_major": 2,
       "version_minor": 0
      },
      "text/plain": [
       "FloatText(value=10.0, description='C grain density mm^2')"
      ]
     },
     "metadata": {},
     "output_type": "display_data"
    },
    {
     "data": {
      "application/vnd.jupyter.widget-view+json": {
       "model_id": "6bd236ff1523406e83ca8255d1a9fe94",
       "version_major": 2,
       "version_minor": 0
      },
      "text/plain": [
       "FloatText(value=0.01, description='Ae mm')"
      ]
     },
     "metadata": {},
     "output_type": "display_data"
    },
    {
     "data": {
      "application/vnd.jupyter.widget-view+json": {
       "model_id": "96f481b6896b44f7a6960815d55b4fab",
       "version_major": 2,
       "version_minor": 0
      },
      "text/plain": [
       "FloatText(value=3393.0, description='Vc m/min', disabled=True)"
      ]
     },
     "metadata": {},
     "output_type": "display_data"
    },
    {
     "data": {
      "application/vnd.jupyter.widget-view+json": {
       "model_id": "78ab3f46e2ce489db6f15419497a62e7",
       "version_major": 2,
       "version_minor": 0
      },
      "text/plain": [
       "FloatText(value=2.999256139845708e-07, description='Bi h_cu-max m', disabled=True)"
      ]
     },
     "metadata": {},
     "output_type": "display_data"
    },
    {
     "data": {
      "application/vnd.jupyter.widget-view+json": {
       "model_id": "595c46e907d44d3a8b5bb1c9299c7f7e",
       "version_major": 2,
       "version_minor": 0
      },
      "text/plain": [
       "FloatText(value=1.208880075325843e-07, description='Hu h_cu-max m', disabled=True)"
      ]
     },
     "metadata": {},
     "output_type": "display_data"
    },
    {
     "data": {
      "application/vnd.jupyter.widget-view+json": {
       "model_id": "ba5c5ef0d7b845a8856a9610a909e9bd",
       "version_major": 2,
       "version_minor": 0
      },
      "text/plain": [
       "FloatText(value=93.45372400000001, description='Bi Vf mm/s', disabled=True)"
      ]
     },
     "metadata": {},
     "output_type": "display_data"
    },
    {
     "data": {
      "application/vnd.jupyter.widget-view+json": {
       "model_id": "691bf391944d463bb39799a8d856c2aa",
       "version_major": 2,
       "version_minor": 0
      },
      "text/plain": [
       "FloatText(value=15.182243, description='Hu Vf mm/s', disabled=True)"
      ]
     },
     "metadata": {},
     "output_type": "display_data"
    },
    {
     "data": {
      "application/vnd.jupyter.widget-view+json": {
       "model_id": "2b13d326d6fe491180f4bfb108585705",
       "version_major": 2,
       "version_minor": 0
      },
      "text/plain": [
       "IntText(value=20000, description='Spindle rpm')"
      ]
     },
     "metadata": {},
     "output_type": "display_data"
    },
    {
     "data": {
      "application/vnd.jupyter.widget-view+json": {
       "model_id": "db79650ee4b24c208008bae674a25839",
       "version_major": 2,
       "version_minor": 0
      },
      "text/plain": [
       "FloatText(value=54.0, description='Dc mm')"
      ]
     },
     "metadata": {},
     "output_type": "display_data"
    },
    {
     "data": {
      "application/vnd.jupyter.widget-view+json": {
       "model_id": "ab0eb1dcb5a9459e9a8519ce54a42f2f",
       "version_major": 2,
       "version_minor": 0
      },
      "text/plain": [
       "IntText(value=173, description='E GPa')"
      ]
     },
     "metadata": {},
     "output_type": "display_data"
    },
    {
     "data": {
      "application/vnd.jupyter.widget-view+json": {
       "model_id": "302057ed3d3341cf9cd1cacab37f3d70",
       "version_major": 2,
       "version_minor": 0
      },
      "text/plain": [
       "FloatText(value=6.3, description='H GPa')"
      ]
     },
     "metadata": {},
     "output_type": "display_data"
    },
    {
     "data": {
      "application/vnd.jupyter.widget-view+json": {
       "model_id": "664ced5e6d734112a99e5da86e5323ae",
       "version_major": 2,
       "version_minor": 0
      },
      "text/plain": [
       "FloatText(value=1.7, description='Kc MPa.m^1/2')"
      ]
     },
     "metadata": {},
     "output_type": "display_data"
    },
    {
     "data": {
      "application/vnd.jupyter.widget-view+json": {
       "model_id": "719766d078fc4f6f97045170328e79b3",
       "version_major": 2,
       "version_minor": 0
      },
      "text/plain": [
       "IntText(value=10, description='r chip ratio')"
      ]
     },
     "metadata": {},
     "output_type": "display_data"
    },
    {
     "data": {
      "application/vnd.jupyter.widget-view+json": {
       "model_id": "c5e026c2bfd74381a1a04ac52a199b6c",
       "version_major": 2,
       "version_minor": 0
      },
      "text/plain": [
       "FloatText(value=10.0, description='C grain density mm^2')"
      ]
     },
     "metadata": {},
     "output_type": "display_data"
    },
    {
     "data": {
      "application/vnd.jupyter.widget-view+json": {
       "model_id": "6bd236ff1523406e83ca8255d1a9fe94",
       "version_major": 2,
       "version_minor": 0
      },
      "text/plain": [
       "FloatText(value=0.01, description='Ae mm')"
      ]
     },
     "metadata": {},
     "output_type": "display_data"
    },
    {
     "data": {
      "application/vnd.jupyter.widget-view+json": {
       "model_id": "96f481b6896b44f7a6960815d55b4fab",
       "version_major": 2,
       "version_minor": 0
      },
      "text/plain": [
       "FloatText(value=3393.0, description='Vc m/min', disabled=True)"
      ]
     },
     "metadata": {},
     "output_type": "display_data"
    },
    {
     "data": {
      "application/vnd.jupyter.widget-view+json": {
       "model_id": "78ab3f46e2ce489db6f15419497a62e7",
       "version_major": 2,
       "version_minor": 0
      },
      "text/plain": [
       "FloatText(value=2.999256139845708e-07, description='Bi h_cu-max m', disabled=True)"
      ]
     },
     "metadata": {},
     "output_type": "display_data"
    },
    {
     "data": {
      "application/vnd.jupyter.widget-view+json": {
       "model_id": "595c46e907d44d3a8b5bb1c9299c7f7e",
       "version_major": 2,
       "version_minor": 0
      },
      "text/plain": [
       "FloatText(value=1.208880075325843e-07, description='Hu h_cu-max m', disabled=True)"
      ]
     },
     "metadata": {},
     "output_type": "display_data"
    },
    {
     "data": {
      "application/vnd.jupyter.widget-view+json": {
       "model_id": "ba5c5ef0d7b845a8856a9610a909e9bd",
       "version_major": 2,
       "version_minor": 0
      },
      "text/plain": [
       "FloatText(value=93.45372400000001, description='Bi Vf mm/s', disabled=True)"
      ]
     },
     "metadata": {},
     "output_type": "display_data"
    },
    {
     "data": {
      "application/vnd.jupyter.widget-view+json": {
       "model_id": "691bf391944d463bb39799a8d856c2aa",
       "version_major": 2,
       "version_minor": 0
      },
      "text/plain": [
       "FloatText(value=15.182243, description='Hu Vf mm/s', disabled=True)"
      ]
     },
     "metadata": {},
     "output_type": "display_data"
    },
    {
     "data": {
      "application/vnd.jupyter.widget-view+json": {
       "model_id": "2b13d326d6fe491180f4bfb108585705",
       "version_major": 2,
       "version_minor": 0
      },
      "text/plain": [
       "IntText(value=20000, description='Spindle rpm')"
      ]
     },
     "metadata": {},
     "output_type": "display_data"
    },
    {
     "data": {
      "application/vnd.jupyter.widget-view+json": {
       "model_id": "db79650ee4b24c208008bae674a25839",
       "version_major": 2,
       "version_minor": 0
      },
      "text/plain": [
       "FloatText(value=55.0, description='Dc mm')"
      ]
     },
     "metadata": {},
     "output_type": "display_data"
    },
    {
     "data": {
      "application/vnd.jupyter.widget-view+json": {
       "model_id": "ab0eb1dcb5a9459e9a8519ce54a42f2f",
       "version_major": 2,
       "version_minor": 0
      },
      "text/plain": [
       "IntText(value=173, description='E GPa')"
      ]
     },
     "metadata": {},
     "output_type": "display_data"
    },
    {
     "data": {
      "application/vnd.jupyter.widget-view+json": {
       "model_id": "302057ed3d3341cf9cd1cacab37f3d70",
       "version_major": 2,
       "version_minor": 0
      },
      "text/plain": [
       "FloatText(value=6.3, description='H GPa')"
      ]
     },
     "metadata": {},
     "output_type": "display_data"
    },
    {
     "data": {
      "application/vnd.jupyter.widget-view+json": {
       "model_id": "664ced5e6d734112a99e5da86e5323ae",
       "version_major": 2,
       "version_minor": 0
      },
      "text/plain": [
       "FloatText(value=1.7, description='Kc MPa.m^1/2')"
      ]
     },
     "metadata": {},
     "output_type": "display_data"
    },
    {
     "data": {
      "application/vnd.jupyter.widget-view+json": {
       "model_id": "719766d078fc4f6f97045170328e79b3",
       "version_major": 2,
       "version_minor": 0
      },
      "text/plain": [
       "IntText(value=10, description='r chip ratio')"
      ]
     },
     "metadata": {},
     "output_type": "display_data"
    },
    {
     "data": {
      "application/vnd.jupyter.widget-view+json": {
       "model_id": "c5e026c2bfd74381a1a04ac52a199b6c",
       "version_major": 2,
       "version_minor": 0
      },
      "text/plain": [
       "FloatText(value=10.0, description='C grain density mm^2')"
      ]
     },
     "metadata": {},
     "output_type": "display_data"
    },
    {
     "data": {
      "application/vnd.jupyter.widget-view+json": {
       "model_id": "6bd236ff1523406e83ca8255d1a9fe94",
       "version_major": 2,
       "version_minor": 0
      },
      "text/plain": [
       "FloatText(value=0.01, description='Ae mm')"
      ]
     },
     "metadata": {},
     "output_type": "display_data"
    },
    {
     "data": {
      "application/vnd.jupyter.widget-view+json": {
       "model_id": "96f481b6896b44f7a6960815d55b4fab",
       "version_major": 2,
       "version_minor": 0
      },
      "text/plain": [
       "FloatText(value=3456.0, description='Vc m/min', disabled=True)"
      ]
     },
     "metadata": {},
     "output_type": "display_data"
    },
    {
     "data": {
      "application/vnd.jupyter.widget-view+json": {
       "model_id": "78ab3f46e2ce489db6f15419497a62e7",
       "version_major": 2,
       "version_minor": 0
      },
      "text/plain": [
       "FloatText(value=2.999256139845708e-07, description='Bi h_cu-max m', disabled=True)"
      ]
     },
     "metadata": {},
     "output_type": "display_data"
    },
    {
     "data": {
      "application/vnd.jupyter.widget-view+json": {
       "model_id": "595c46e907d44d3a8b5bb1c9299c7f7e",
       "version_major": 2,
       "version_minor": 0
      },
      "text/plain": [
       "FloatText(value=1.208880075325843e-07, description='Hu h_cu-max m', disabled=True)"
      ]
     },
     "metadata": {},
     "output_type": "display_data"
    },
    {
     "data": {
      "application/vnd.jupyter.widget-view+json": {
       "model_id": "ba5c5ef0d7b845a8856a9610a909e9bd",
       "version_major": 2,
       "version_minor": 0
      },
      "text/plain": [
       "FloatText(value=96.066275, description='Bi Vf mm/s', disabled=True)"
      ]
     },
     "metadata": {},
     "output_type": "display_data"
    },
    {
     "data": {
      "application/vnd.jupyter.widget-view+json": {
       "model_id": "691bf391944d463bb39799a8d856c2aa",
       "version_major": 2,
       "version_minor": 0
      },
      "text/plain": [
       "FloatText(value=15.606671, description='Hu Vf mm/s', disabled=True)"
      ]
     },
     "metadata": {},
     "output_type": "display_data"
    },
    {
     "data": {
      "application/vnd.jupyter.widget-view+json": {
       "model_id": "2b13d326d6fe491180f4bfb108585705",
       "version_major": 2,
       "version_minor": 0
      },
      "text/plain": [
       "IntText(value=20000, description='Spindle rpm')"
      ]
     },
     "metadata": {},
     "output_type": "display_data"
    },
    {
     "data": {
      "application/vnd.jupyter.widget-view+json": {
       "model_id": "db79650ee4b24c208008bae674a25839",
       "version_major": 2,
       "version_minor": 0
      },
      "text/plain": [
       "FloatText(value=54.0, description='Dc mm')"
      ]
     },
     "metadata": {},
     "output_type": "display_data"
    },
    {
     "data": {
      "application/vnd.jupyter.widget-view+json": {
       "model_id": "ab0eb1dcb5a9459e9a8519ce54a42f2f",
       "version_major": 2,
       "version_minor": 0
      },
      "text/plain": [
       "IntText(value=173, description='E GPa')"
      ]
     },
     "metadata": {},
     "output_type": "display_data"
    },
    {
     "data": {
      "application/vnd.jupyter.widget-view+json": {
       "model_id": "302057ed3d3341cf9cd1cacab37f3d70",
       "version_major": 2,
       "version_minor": 0
      },
      "text/plain": [
       "FloatText(value=6.3, description='H GPa')"
      ]
     },
     "metadata": {},
     "output_type": "display_data"
    },
    {
     "data": {
      "application/vnd.jupyter.widget-view+json": {
       "model_id": "664ced5e6d734112a99e5da86e5323ae",
       "version_major": 2,
       "version_minor": 0
      },
      "text/plain": [
       "FloatText(value=1.7, description='Kc MPa.m^1/2')"
      ]
     },
     "metadata": {},
     "output_type": "display_data"
    },
    {
     "data": {
      "application/vnd.jupyter.widget-view+json": {
       "model_id": "719766d078fc4f6f97045170328e79b3",
       "version_major": 2,
       "version_minor": 0
      },
      "text/plain": [
       "IntText(value=10, description='r chip ratio')"
      ]
     },
     "metadata": {},
     "output_type": "display_data"
    },
    {
     "data": {
      "application/vnd.jupyter.widget-view+json": {
       "model_id": "c5e026c2bfd74381a1a04ac52a199b6c",
       "version_major": 2,
       "version_minor": 0
      },
      "text/plain": [
       "FloatText(value=10.0, description='C grain density mm^2')"
      ]
     },
     "metadata": {},
     "output_type": "display_data"
    },
    {
     "data": {
      "application/vnd.jupyter.widget-view+json": {
       "model_id": "6bd236ff1523406e83ca8255d1a9fe94",
       "version_major": 2,
       "version_minor": 0
      },
      "text/plain": [
       "FloatText(value=0.01, description='Ae mm')"
      ]
     },
     "metadata": {},
     "output_type": "display_data"
    },
    {
     "data": {
      "application/vnd.jupyter.widget-view+json": {
       "model_id": "96f481b6896b44f7a6960815d55b4fab",
       "version_major": 2,
       "version_minor": 0
      },
      "text/plain": [
       "FloatText(value=3393.0, description='Vc m/min', disabled=True)"
      ]
     },
     "metadata": {},
     "output_type": "display_data"
    },
    {
     "data": {
      "application/vnd.jupyter.widget-view+json": {
       "model_id": "78ab3f46e2ce489db6f15419497a62e7",
       "version_major": 2,
       "version_minor": 0
      },
      "text/plain": [
       "FloatText(value=2.999256139845708e-07, description='Bi h_cu-max m', disabled=True)"
      ]
     },
     "metadata": {},
     "output_type": "display_data"
    },
    {
     "data": {
      "application/vnd.jupyter.widget-view+json": {
       "model_id": "595c46e907d44d3a8b5bb1c9299c7f7e",
       "version_major": 2,
       "version_minor": 0
      },
      "text/plain": [
       "FloatText(value=1.208880075325843e-07, description='Hu h_cu-max m', disabled=True)"
      ]
     },
     "metadata": {},
     "output_type": "display_data"
    },
    {
     "data": {
      "application/vnd.jupyter.widget-view+json": {
       "model_id": "ba5c5ef0d7b845a8856a9610a909e9bd",
       "version_major": 2,
       "version_minor": 0
      },
      "text/plain": [
       "FloatText(value=93.45372400000001, description='Bi Vf mm/s', disabled=True)"
      ]
     },
     "metadata": {},
     "output_type": "display_data"
    },
    {
     "data": {
      "application/vnd.jupyter.widget-view+json": {
       "model_id": "691bf391944d463bb39799a8d856c2aa",
       "version_major": 2,
       "version_minor": 0
      },
      "text/plain": [
       "FloatText(value=15.182243, description='Hu Vf mm/s', disabled=True)"
      ]
     },
     "metadata": {},
     "output_type": "display_data"
    },
    {
     "data": {
      "application/vnd.jupyter.widget-view+json": {
       "model_id": "2b13d326d6fe491180f4bfb108585705",
       "version_major": 2,
       "version_minor": 0
      },
      "text/plain": [
       "IntText(value=20000, description='Spindle rpm')"
      ]
     },
     "metadata": {},
     "output_type": "display_data"
    },
    {
     "data": {
      "application/vnd.jupyter.widget-view+json": {
       "model_id": "db79650ee4b24c208008bae674a25839",
       "version_major": 2,
       "version_minor": 0
      },
      "text/plain": [
       "FloatText(value=54.0, description='Dc mm')"
      ]
     },
     "metadata": {},
     "output_type": "display_data"
    },
    {
     "data": {
      "application/vnd.jupyter.widget-view+json": {
       "model_id": "ab0eb1dcb5a9459e9a8519ce54a42f2f",
       "version_major": 2,
       "version_minor": 0
      },
      "text/plain": [
       "IntText(value=173, description='E GPa')"
      ]
     },
     "metadata": {},
     "output_type": "display_data"
    },
    {
     "data": {
      "application/vnd.jupyter.widget-view+json": {
       "model_id": "302057ed3d3341cf9cd1cacab37f3d70",
       "version_major": 2,
       "version_minor": 0
      },
      "text/plain": [
       "FloatText(value=6.3, description='H GPa')"
      ]
     },
     "metadata": {},
     "output_type": "display_data"
    },
    {
     "data": {
      "application/vnd.jupyter.widget-view+json": {
       "model_id": "664ced5e6d734112a99e5da86e5323ae",
       "version_major": 2,
       "version_minor": 0
      },
      "text/plain": [
       "FloatText(value=1.7, description='Kc MPa.m^1/2')"
      ]
     },
     "metadata": {},
     "output_type": "display_data"
    },
    {
     "data": {
      "application/vnd.jupyter.widget-view+json": {
       "model_id": "719766d078fc4f6f97045170328e79b3",
       "version_major": 2,
       "version_minor": 0
      },
      "text/plain": [
       "IntText(value=10, description='r chip ratio')"
      ]
     },
     "metadata": {},
     "output_type": "display_data"
    },
    {
     "data": {
      "application/vnd.jupyter.widget-view+json": {
       "model_id": "c5e026c2bfd74381a1a04ac52a199b6c",
       "version_major": 2,
       "version_minor": 0
      },
      "text/plain": [
       "FloatText(value=10.0, description='C grain density mm^2')"
      ]
     },
     "metadata": {},
     "output_type": "display_data"
    },
    {
     "data": {
      "application/vnd.jupyter.widget-view+json": {
       "model_id": "6bd236ff1523406e83ca8255d1a9fe94",
       "version_major": 2,
       "version_minor": 0
      },
      "text/plain": [
       "FloatText(value=0.01, description='Ae mm')"
      ]
     },
     "metadata": {},
     "output_type": "display_data"
    },
    {
     "data": {
      "application/vnd.jupyter.widget-view+json": {
       "model_id": "96f481b6896b44f7a6960815d55b4fab",
       "version_major": 2,
       "version_minor": 0
      },
      "text/plain": [
       "FloatText(value=3393.0, description='Vc m/min', disabled=True)"
      ]
     },
     "metadata": {},
     "output_type": "display_data"
    },
    {
     "data": {
      "application/vnd.jupyter.widget-view+json": {
       "model_id": "78ab3f46e2ce489db6f15419497a62e7",
       "version_major": 2,
       "version_minor": 0
      },
      "text/plain": [
       "FloatText(value=2.999256139845708e-07, description='Bi h_cu-max m', disabled=True)"
      ]
     },
     "metadata": {},
     "output_type": "display_data"
    },
    {
     "data": {
      "application/vnd.jupyter.widget-view+json": {
       "model_id": "595c46e907d44d3a8b5bb1c9299c7f7e",
       "version_major": 2,
       "version_minor": 0
      },
      "text/plain": [
       "FloatText(value=1.208880075325843e-07, description='Hu h_cu-max m', disabled=True)"
      ]
     },
     "metadata": {},
     "output_type": "display_data"
    },
    {
     "data": {
      "application/vnd.jupyter.widget-view+json": {
       "model_id": "ba5c5ef0d7b845a8856a9610a909e9bd",
       "version_major": 2,
       "version_minor": 0
      },
      "text/plain": [
       "FloatText(value=93.45372400000001, description='Bi Vf mm/s', disabled=True)"
      ]
     },
     "metadata": {},
     "output_type": "display_data"
    },
    {
     "data": {
      "application/vnd.jupyter.widget-view+json": {
       "model_id": "691bf391944d463bb39799a8d856c2aa",
       "version_major": 2,
       "version_minor": 0
      },
      "text/plain": [
       "FloatText(value=15.182243, description='Hu Vf mm/s', disabled=True)"
      ]
     },
     "metadata": {},
     "output_type": "display_data"
    },
    {
     "data": {
      "application/vnd.jupyter.widget-view+json": {
       "model_id": "2b13d326d6fe491180f4bfb108585705",
       "version_major": 2,
       "version_minor": 0
      },
      "text/plain": [
       "IntText(value=20000, description='Spindle rpm')"
      ]
     },
     "metadata": {},
     "output_type": "display_data"
    },
    {
     "data": {
      "application/vnd.jupyter.widget-view+json": {
       "model_id": "db79650ee4b24c208008bae674a25839",
       "version_major": 2,
       "version_minor": 0
      },
      "text/plain": [
       "FloatText(value=54.0, description='Dc mm')"
      ]
     },
     "metadata": {},
     "output_type": "display_data"
    },
    {
     "data": {
      "application/vnd.jupyter.widget-view+json": {
       "model_id": "ab0eb1dcb5a9459e9a8519ce54a42f2f",
       "version_major": 2,
       "version_minor": 0
      },
      "text/plain": [
       "IntText(value=173, description='E GPa')"
      ]
     },
     "metadata": {},
     "output_type": "display_data"
    },
    {
     "data": {
      "application/vnd.jupyter.widget-view+json": {
       "model_id": "302057ed3d3341cf9cd1cacab37f3d70",
       "version_major": 2,
       "version_minor": 0
      },
      "text/plain": [
       "FloatText(value=6.3, description='H GPa')"
      ]
     },
     "metadata": {},
     "output_type": "display_data"
    },
    {
     "data": {
      "application/vnd.jupyter.widget-view+json": {
       "model_id": "664ced5e6d734112a99e5da86e5323ae",
       "version_major": 2,
       "version_minor": 0
      },
      "text/plain": [
       "FloatText(value=1.7, description='Kc MPa.m^1/2')"
      ]
     },
     "metadata": {},
     "output_type": "display_data"
    },
    {
     "data": {
      "application/vnd.jupyter.widget-view+json": {
       "model_id": "719766d078fc4f6f97045170328e79b3",
       "version_major": 2,
       "version_minor": 0
      },
      "text/plain": [
       "IntText(value=10, description='r chip ratio')"
      ]
     },
     "metadata": {},
     "output_type": "display_data"
    },
    {
     "data": {
      "application/vnd.jupyter.widget-view+json": {
       "model_id": "c5e026c2bfd74381a1a04ac52a199b6c",
       "version_major": 2,
       "version_minor": 0
      },
      "text/plain": [
       "FloatText(value=10.0, description='C grain density mm^2')"
      ]
     },
     "metadata": {},
     "output_type": "display_data"
    },
    {
     "data": {
      "application/vnd.jupyter.widget-view+json": {
       "model_id": "6bd236ff1523406e83ca8255d1a9fe94",
       "version_major": 2,
       "version_minor": 0
      },
      "text/plain": [
       "FloatText(value=0.01, description='Ae mm')"
      ]
     },
     "metadata": {},
     "output_type": "display_data"
    },
    {
     "data": {
      "application/vnd.jupyter.widget-view+json": {
       "model_id": "96f481b6896b44f7a6960815d55b4fab",
       "version_major": 2,
       "version_minor": 0
      },
      "text/plain": [
       "FloatText(value=3393.0, description='Vc m/min', disabled=True)"
      ]
     },
     "metadata": {},
     "output_type": "display_data"
    },
    {
     "data": {
      "application/vnd.jupyter.widget-view+json": {
       "model_id": "78ab3f46e2ce489db6f15419497a62e7",
       "version_major": 2,
       "version_minor": 0
      },
      "text/plain": [
       "FloatText(value=2.999256139845708e-07, description='Bi h_cu-max m', disabled=True)"
      ]
     },
     "metadata": {},
     "output_type": "display_data"
    },
    {
     "data": {
      "application/vnd.jupyter.widget-view+json": {
       "model_id": "595c46e907d44d3a8b5bb1c9299c7f7e",
       "version_major": 2,
       "version_minor": 0
      },
      "text/plain": [
       "FloatText(value=1.208880075325843e-07, description='Hu h_cu-max m', disabled=True)"
      ]
     },
     "metadata": {},
     "output_type": "display_data"
    },
    {
     "data": {
      "application/vnd.jupyter.widget-view+json": {
       "model_id": "ba5c5ef0d7b845a8856a9610a909e9bd",
       "version_major": 2,
       "version_minor": 0
      },
      "text/plain": [
       "FloatText(value=93.45372400000001, description='Bi Vf mm/s', disabled=True)"
      ]
     },
     "metadata": {},
     "output_type": "display_data"
    },
    {
     "data": {
      "application/vnd.jupyter.widget-view+json": {
       "model_id": "691bf391944d463bb39799a8d856c2aa",
       "version_major": 2,
       "version_minor": 0
      },
      "text/plain": [
       "FloatText(value=15.182243, description='Hu Vf mm/s', disabled=True)"
      ]
     },
     "metadata": {},
     "output_type": "display_data"
    },
    {
     "data": {
      "application/vnd.jupyter.widget-view+json": {
       "model_id": "2b13d326d6fe491180f4bfb108585705",
       "version_major": 2,
       "version_minor": 0
      },
      "text/plain": [
       "IntText(value=20000, description='Spindle rpm')"
      ]
     },
     "metadata": {},
     "output_type": "display_data"
    },
    {
     "data": {
      "application/vnd.jupyter.widget-view+json": {
       "model_id": "db79650ee4b24c208008bae674a25839",
       "version_major": 2,
       "version_minor": 0
      },
      "text/plain": [
       "FloatText(value=54.0, description='Dc mm')"
      ]
     },
     "metadata": {},
     "output_type": "display_data"
    },
    {
     "data": {
      "application/vnd.jupyter.widget-view+json": {
       "model_id": "ab0eb1dcb5a9459e9a8519ce54a42f2f",
       "version_major": 2,
       "version_minor": 0
      },
      "text/plain": [
       "IntText(value=173, description='E GPa')"
      ]
     },
     "metadata": {},
     "output_type": "display_data"
    },
    {
     "data": {
      "application/vnd.jupyter.widget-view+json": {
       "model_id": "302057ed3d3341cf9cd1cacab37f3d70",
       "version_major": 2,
       "version_minor": 0
      },
      "text/plain": [
       "FloatText(value=6.3, description='H GPa')"
      ]
     },
     "metadata": {},
     "output_type": "display_data"
    },
    {
     "data": {
      "application/vnd.jupyter.widget-view+json": {
       "model_id": "664ced5e6d734112a99e5da86e5323ae",
       "version_major": 2,
       "version_minor": 0
      },
      "text/plain": [
       "FloatText(value=1.7, description='Kc MPa.m^1/2')"
      ]
     },
     "metadata": {},
     "output_type": "display_data"
    },
    {
     "data": {
      "application/vnd.jupyter.widget-view+json": {
       "model_id": "719766d078fc4f6f97045170328e79b3",
       "version_major": 2,
       "version_minor": 0
      },
      "text/plain": [
       "IntText(value=10, description='r chip ratio')"
      ]
     },
     "metadata": {},
     "output_type": "display_data"
    },
    {
     "data": {
      "application/vnd.jupyter.widget-view+json": {
       "model_id": "c5e026c2bfd74381a1a04ac52a199b6c",
       "version_major": 2,
       "version_minor": 0
      },
      "text/plain": [
       "FloatText(value=10.0, description='C grain density mm^2')"
      ]
     },
     "metadata": {},
     "output_type": "display_data"
    },
    {
     "data": {
      "application/vnd.jupyter.widget-view+json": {
       "model_id": "6bd236ff1523406e83ca8255d1a9fe94",
       "version_major": 2,
       "version_minor": 0
      },
      "text/plain": [
       "FloatText(value=0.1, description='Ae mm')"
      ]
     },
     "metadata": {},
     "output_type": "display_data"
    },
    {
     "data": {
      "application/vnd.jupyter.widget-view+json": {
       "model_id": "96f481b6896b44f7a6960815d55b4fab",
       "version_major": 2,
       "version_minor": 0
      },
      "text/plain": [
       "FloatText(value=3393.0, description='Vc m/min', disabled=True)"
      ]
     },
     "metadata": {},
     "output_type": "display_data"
    },
    {
     "data": {
      "application/vnd.jupyter.widget-view+json": {
       "model_id": "78ab3f46e2ce489db6f15419497a62e7",
       "version_major": 2,
       "version_minor": 0
      },
      "text/plain": [
       "FloatText(value=2.999256139845708e-07, description='Bi h_cu-max m', disabled=True)"
      ]
     },
     "metadata": {},
     "output_type": "display_data"
    },
    {
     "data": {
      "application/vnd.jupyter.widget-view+json": {
       "model_id": "595c46e907d44d3a8b5bb1c9299c7f7e",
       "version_major": 2,
       "version_minor": 0
      },
      "text/plain": [
       "FloatText(value=1.208880075325843e-07, description='Hu h_cu-max m', disabled=True)"
      ]
     },
     "metadata": {},
     "output_type": "display_data"
    },
    {
     "data": {
      "application/vnd.jupyter.widget-view+json": {
       "model_id": "ba5c5ef0d7b845a8856a9610a909e9bd",
       "version_major": 2,
       "version_minor": 0
      },
      "text/plain": [
       "FloatText(value=29.552662, description='Bi Vf mm/s', disabled=True)"
      ]
     },
     "metadata": {},
     "output_type": "display_data"
    },
    {
     "data": {
      "application/vnd.jupyter.widget-view+json": {
       "model_id": "691bf391944d463bb39799a8d856c2aa",
       "version_major": 2,
       "version_minor": 0
      },
      "text/plain": [
       "FloatText(value=4.8010470000000005, description='Hu Vf mm/s', disabled=True)"
      ]
     },
     "metadata": {},
     "output_type": "display_data"
    },
    {
     "data": {
      "application/vnd.jupyter.widget-view+json": {
       "model_id": "2b13d326d6fe491180f4bfb108585705",
       "version_major": 2,
       "version_minor": 0
      },
      "text/plain": [
       "IntText(value=20000, description='Spindle rpm')"
      ]
     },
     "metadata": {},
     "output_type": "display_data"
    },
    {
     "data": {
      "application/vnd.jupyter.widget-view+json": {
       "model_id": "db79650ee4b24c208008bae674a25839",
       "version_major": 2,
       "version_minor": 0
      },
      "text/plain": [
       "FloatText(value=54.0, description='Dc mm')"
      ]
     },
     "metadata": {},
     "output_type": "display_data"
    },
    {
     "data": {
      "application/vnd.jupyter.widget-view+json": {
       "model_id": "ab0eb1dcb5a9459e9a8519ce54a42f2f",
       "version_major": 2,
       "version_minor": 0
      },
      "text/plain": [
       "IntText(value=173, description='E GPa')"
      ]
     },
     "metadata": {},
     "output_type": "display_data"
    },
    {
     "data": {
      "application/vnd.jupyter.widget-view+json": {
       "model_id": "302057ed3d3341cf9cd1cacab37f3d70",
       "version_major": 2,
       "version_minor": 0
      },
      "text/plain": [
       "FloatText(value=6.3, description='H GPa')"
      ]
     },
     "metadata": {},
     "output_type": "display_data"
    },
    {
     "data": {
      "application/vnd.jupyter.widget-view+json": {
       "model_id": "664ced5e6d734112a99e5da86e5323ae",
       "version_major": 2,
       "version_minor": 0
      },
      "text/plain": [
       "FloatText(value=1.7, description='Kc MPa.m^1/2')"
      ]
     },
     "metadata": {},
     "output_type": "display_data"
    },
    {
     "data": {
      "application/vnd.jupyter.widget-view+json": {
       "model_id": "719766d078fc4f6f97045170328e79b3",
       "version_major": 2,
       "version_minor": 0
      },
      "text/plain": [
       "IntText(value=10, description='r chip ratio')"
      ]
     },
     "metadata": {},
     "output_type": "display_data"
    },
    {
     "data": {
      "application/vnd.jupyter.widget-view+json": {
       "model_id": "c5e026c2bfd74381a1a04ac52a199b6c",
       "version_major": 2,
       "version_minor": 0
      },
      "text/plain": [
       "FloatText(value=10.0, description='C grain density mm^2')"
      ]
     },
     "metadata": {},
     "output_type": "display_data"
    },
    {
     "data": {
      "application/vnd.jupyter.widget-view+json": {
       "model_id": "6bd236ff1523406e83ca8255d1a9fe94",
       "version_major": 2,
       "version_minor": 0
      },
      "text/plain": [
       "FloatText(value=0.001, description='Ae mm')"
      ]
     },
     "metadata": {},
     "output_type": "display_data"
    },
    {
     "data": {
      "application/vnd.jupyter.widget-view+json": {
       "model_id": "96f481b6896b44f7a6960815d55b4fab",
       "version_major": 2,
       "version_minor": 0
      },
      "text/plain": [
       "FloatText(value=3393.0, description='Vc m/min', disabled=True)"
      ]
     },
     "metadata": {},
     "output_type": "display_data"
    },
    {
     "data": {
      "application/vnd.jupyter.widget-view+json": {
       "model_id": "78ab3f46e2ce489db6f15419497a62e7",
       "version_major": 2,
       "version_minor": 0
      },
      "text/plain": [
       "FloatText(value=2.999256139845708e-07, description='Bi h_cu-max m', disabled=True)"
      ]
     },
     "metadata": {},
     "output_type": "display_data"
    },
    {
     "data": {
      "application/vnd.jupyter.widget-view+json": {
       "model_id": "595c46e907d44d3a8b5bb1c9299c7f7e",
       "version_major": 2,
       "version_minor": 0
      },
      "text/plain": [
       "FloatText(value=1.208880075325843e-07, description='Hu h_cu-max m', disabled=True)"
      ]
     },
     "metadata": {},
     "output_type": "display_data"
    },
    {
     "data": {
      "application/vnd.jupyter.widget-view+json": {
       "model_id": "ba5c5ef0d7b845a8856a9610a909e9bd",
       "version_major": 2,
       "version_minor": 0
      },
      "text/plain": [
       "FloatText(value=295.526623, description='Bi Vf mm/s', disabled=True)"
      ]
     },
     "metadata": {},
     "output_type": "display_data"
    },
    {
     "data": {
      "application/vnd.jupyter.widget-view+json": {
       "model_id": "691bf391944d463bb39799a8d856c2aa",
       "version_major": 2,
       "version_minor": 0
      },
      "text/plain": [
       "FloatText(value=48.010468, description='Hu Vf mm/s', disabled=True)"
      ]
     },
     "metadata": {},
     "output_type": "display_data"
    }
   ],
   "source": [
    "import math\n",
    "import ipywidgets as widgets\n",
    "\n",
    "\n",
    "slider_rpm = widgets.IntText(value=100000, description='Spindle rpm')\n",
    "slider_diameter = widgets.FloatText(value=3,  description='Dc mm')\n",
    "\n",
    "slider_chip_aspect_ratio = widgets.IntText(value=10, description='r chip ratio')\n",
    "slider_grain_density = widgets.FloatText(value=500, description='C grain density mm^2')\n",
    "\n",
    "slider_E = widgets.IntText(value=168, description='E GPa')\n",
    "slider_H = widgets.FloatText(value=11,  description='H GPa')\n",
    "slider_Kc = widgets.FloatText(value=0.7,  description='Kc MPa.m^1/2')\n",
    "\n",
    "slider_stepover = widgets.FloatText(value=0.001, description='Ae mm')\n",
    "\n",
    "output_crit_chip_bifano = widgets.FloatText(disabled=True, description='Bi h_cu-max m')\n",
    "output_crit_chip_huang = widgets.FloatText(disabled=True, description='Hu h_cu-max m')\n",
    "output_surface_speed = widgets.FloatText(disabled=True, description='Vc m/min')\n",
    "output_feedrate_side_bifano = widgets.FloatText(disabled=True, description='Bi Vf mm/s')\n",
    "output_feedrate_side_huang = widgets.FloatText(disabled=True, description='Hu Vf mm/s')\n",
    "\n",
    "\n",
    "def compute_surface_speed(*ignore):\n",
    "    output_surface_speed.value = round(math.pi*slider_diameter.value * slider_rpm.value/1000)\n",
    "\n",
    "def compute_crit_chip(*ignore):\n",
    "    E = slider_E.value*1e9\n",
    "    H = slider_H.value*1e9\n",
    "    Kc = slider_Kc.value*1e6\n",
    "    lambda_bifano = 0.15\n",
    "    lambda_huang = 8.7\n",
    "\n",
    "    output_crit_chip_bifano.value = lambda_bifano*(E/H)*((Kc/H)**2)\n",
    "    output_crit_chip_huang.value = lambda_huang*(math.sqrt(H/E))*((Kc/H)**2)\n",
    "\n",
    "def compute_feedrates_crit_chip(*ignore):\n",
    "    surface_speed = output_surface_speed.value/60\n",
    "    crit_chip_bifano = output_crit_chip_bifano.value\n",
    "    crit_chip_huang = output_crit_chip_huang.value\n",
    "    grain_density = slider_grain_density.value*10e6\n",
    "    chip_aspect_ratio = slider_chip_aspect_ratio.value\n",
    "    stepover = slider_stepover.value*1e-3\n",
    "    diameter = slider_diameter.value*1e-3\n",
    "\n",
    "    feedrate_side_bifano_m = round((surface_speed*crit_chip_bifano**2)/((4/(grain_density*chip_aspect_ratio))*math.sqrt(stepover/diameter)),9)\n",
    "\n",
    "    feedrate_side_huang_m = round((surface_speed*crit_chip_huang**2)/((4/(grain_density*chip_aspect_ratio))*math.sqrt(stepover/diameter)),9)\n",
    "    \n",
    "    output_feedrate_side_bifano.value = feedrate_side_bifano_m*1e3\n",
    "\n",
    "    output_feedrate_side_huang.value = feedrate_side_huang_m*1e3\n",
    "\n",
    "\n",
    "# slider_rpm.observe(compute_surface_speed, 'value')\n",
    "# slider_diameter.observe(compute_surface_speed, 'value')\n",
    "\n",
    "# slider_E.observe(compute_crit_chip, 'value')\n",
    "# slider_H.observe(compute_crit_chip, 'value')\n",
    "# slider_Kc.observe(compute_crit_chip, 'value')\n",
    "\n",
    "# output_surface_speed.observe(compute_feedrates_crit_chip, 'value')\n",
    "# slider_diameter.observe(compute_feedrates_crit_chip, 'value')\n",
    "# slider_chip_aspect_ratio.observe(compute_feedrates_crit_chip, 'value')\n",
    "# slider_grain_density.observe(compute_feedrates_crit_chip, 'value')\n",
    "# slider_stepover.observe(compute_feedrates_crit_chip, 'value')\n",
    "# output_crit_chip_bifano.observe(compute_feedrates_crit_chip, 'value')\n",
    "# output_crit_chip_huang.observe(compute_feedrates_crit_chip, 'value')\n",
    "\n",
    "button_calculate = widgets.Button(description=\"Calculate\")\n",
    "\n",
    "def on_button_clicked(b):\n",
    "    compute_surface_speed()\n",
    "    compute_crit_chip()\n",
    "    compute_feedrates_crit_chip()\n",
    "\n",
    "    display(slider_rpm)\n",
    "    display(slider_diameter)\n",
    "\n",
    "    display(slider_E)\n",
    "    display(slider_H)\n",
    "    display(slider_Kc)\n",
    "\n",
    "    display(slider_chip_aspect_ratio)\n",
    "    display(slider_grain_density)\n",
    "    display(slider_stepover)\n",
    "\n",
    "    display(output_surface_speed)\n",
    "    display(output_crit_chip_bifano)\n",
    "    display(output_crit_chip_huang)\n",
    "    display(output_feedrate_side_bifano)\n",
    "    display(output_feedrate_side_huang)\n",
    "\n",
    "button_calculate.on_click(on_button_clicked)\n",
    "\n",
    "display(slider_rpm)\n",
    "display(slider_diameter)\n",
    "\n",
    "display(slider_E)\n",
    "display(slider_H)\n",
    "display(slider_Kc)\n",
    "\n",
    "display(slider_chip_aspect_ratio)\n",
    "display(slider_grain_density)\n",
    "display(slider_stepover)\n",
    "\n",
    "display(button_calculate)\n",
    "\n",
    "display(output_surface_speed)\n",
    "display(output_crit_chip_bifano)\n",
    "display(output_crit_chip_huang)\n",
    "display(output_feedrate_side_bifano)\n",
    "display(output_feedrate_side_huang)\n",
    "\n",
    "\n"
   ]
  },
  {
   "cell_type": "markdown",
   "metadata": {},
   "source": [
    "#Results"
   ]
  },
  {
   "cell_type": "code",
   "execution_count": null,
   "metadata": {},
   "outputs": [],
   "source": [
    "\n"
   ]
  },
  {
   "cell_type": "code",
   "execution_count": null,
   "metadata": {},
   "outputs": [],
   "source": []
  }
 ],
 "metadata": {
  "kernelspec": {
   "display_name": "Python 3",
   "language": "python",
   "name": "python3"
  },
  "language_info": {
   "codemirror_mode": {
    "name": "ipython",
    "version": 3
   },
   "file_extension": ".py",
   "mimetype": "text/x-python",
   "name": "python",
   "nbconvert_exporter": "python",
   "pygments_lexer": "ipython3",
   "version": "3.13.1"
  }
 },
 "nbformat": 4,
 "nbformat_minor": 2
}
