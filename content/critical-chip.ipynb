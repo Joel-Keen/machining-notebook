{
 "cells": [
  {
   "cell_type": "markdown",
   "metadata": {},
   "source": [
    "##Critical Chip Thickness\n",
    "\n",
    "Where E is the Modulus of Elasticity, H is the hardness and K_c is the toughness\n",
    "\n",
    "#Inputs"
   ]
  },
  {
   "cell_type": "code",
   "execution_count": 19,
   "metadata": {},
   "outputs": [
    {
     "data": {
      "application/vnd.jupyter.widget-view+json": {
       "model_id": "b28df8345cd841e7b54074a61702db0a",
       "version_major": 2,
       "version_minor": 0
      },
      "text/plain": [
       "IntSlider(value=168, description='E GPa', max=1000, min=10)"
      ]
     },
     "metadata": {},
     "output_type": "display_data"
    },
    {
     "data": {
      "application/vnd.jupyter.widget-view+json": {
       "model_id": "138fa43919c64cd985a3bf4fcddc7b20",
       "version_major": 2,
       "version_minor": 0
      },
      "text/plain": [
       "FloatSlider(value=11.0, description='H GPa', max=80.0, min=1.0)"
      ]
     },
     "metadata": {},
     "output_type": "display_data"
    },
    {
     "data": {
      "application/vnd.jupyter.widget-view+json": {
       "model_id": "9742341a5ea64cab8ecd177cda71b1a3",
       "version_major": 2,
       "version_minor": 0
      },
      "text/plain": [
       "FloatSlider(value=0.7, description='Kc MPa.m^1/2', max=20.0, min=0.1)"
      ]
     },
     "metadata": {},
     "output_type": "display_data"
    },
    {
     "data": {
      "application/vnd.jupyter.widget-view+json": {
       "model_id": "579321008e3347d3bdcf9e953780ae55",
       "version_major": 2,
       "version_minor": 0
      },
      "text/plain": [
       "FloatText(value=0.0, description='Bifano h_cu-max', disabled=True)"
      ]
     },
     "metadata": {},
     "output_type": "display_data"
    },
    {
     "data": {
      "application/vnd.jupyter.widget-view+json": {
       "model_id": "795e32b4de47498192511ebfcbc1af3f",
       "version_major": 2,
       "version_minor": 0
      },
      "text/plain": [
       "FloatText(value=0.0, description='Huang h_cu-max', disabled=True)"
      ]
     },
     "metadata": {},
     "output_type": "display_data"
    }
   ],
   "source": [
    "import math\n",
    "import ipywidgets as widgets\n",
    "\n",
    "\n",
    "slider_E = widgets.IntSlider(value=168, min=10, max=1000, step=1, description='E GPa')\n",
    "slider_H = widgets.FloatSlider(value=11, min=1, max=80, step=0.1, description='H GPa')\n",
    "slider_Kc = widgets.FloatSlider(value=0.7, min=0.1, max=20, step=0.1, description='Kc MPa.m^1/2')\n",
    "\n",
    "\n",
    "\n",
    "output_crit_chip_bifano = widgets.FloatText(disabled=True, description='Bifano h_cu-max')\n",
    "output_crit_chip_huang = widgets.FloatText(disabled=True, description='Huang h_cu-max')\n",
    "\n",
    "def compute_crit_chip(*ignore):\n",
    "\n",
    "    E = slider_E.value*10e9\n",
    "    H = slider_H.value*10e9\n",
    "    Kc = slider_Kc.value*10e6\n",
    "\n",
    "    output_crit_chip_bifano.value = 0.15*(E/H)*((Kc/H)**2)\n",
    "    output_crit_chip_huang.value = 8.7*(math.sqrt(H/E))*((Kc/H)**2)\n",
    "    \n",
    "slider_E.observe(compute_crit_chip, 'value')\n",
    "slider_H.observe(compute_crit_chip, 'value')\n",
    "slider_Kc.observe(compute_crit_chip, 'value')\n",
    "\n",
    "\n",
    "display(slider_E)\n",
    "display(slider_H)\n",
    "display(slider_Kc)\n",
    "\n"
   ]
  },
  {
   "cell_type": "markdown",
   "metadata": {},
   "source": [
    "#Results"
   ]
  },
  {
   "cell_type": "code",
   "execution_count": null,
   "metadata": {},
   "outputs": [],
   "source": [
    "\n",
    "\n",
    "display(output_crit_chip_bifano)\n",
    "display(output_crit_chip_huang)"
   ]
  },
  {
   "cell_type": "markdown",
   "metadata": {},
   "source": []
  }
 ],
 "metadata": {
  "kernelspec": {
   "display_name": "Python 3",
   "language": "python",
   "name": "python3"
  },
  "language_info": {
   "codemirror_mode": {
    "name": "ipython",
    "version": 3
   },
   "file_extension": ".py",
   "mimetype": "text/x-python",
   "name": "python",
   "nbconvert_exporter": "python",
   "pygments_lexer": "ipython3",
   "version": "3.13.1"
  }
 },
 "nbformat": 4,
 "nbformat_minor": 2
}
