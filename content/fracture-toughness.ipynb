{
 "cells": [
  {
   "cell_type": "markdown",
   "metadata": {},
   "source": [
    "## Fracture Toughness\n",
    "\n",
    "Output $$K_{IC}$$\n",
    "\n",
    "Effects of nano mechanical properties on LiNbO3 fixed abrasive lapping\n",
    "$$ K_{IC} = 0.016\\left(\\frac{E}{H}\\right)^{1/2} \\frac{P}{c^{3/2}}$$\n",
    "\n",
    "\n",
    "#Inputs\n"
   ]
  },
  {
   "cell_type": "code",
   "execution_count": 3,
   "metadata": {},
   "outputs": [
    {
     "data": {
      "application/vnd.jupyter.widget-view+json": {
       "model_id": "d3c81a43eb2341558e974216a5606a9f",
       "version_major": 2,
       "version_minor": 0
      },
      "text/plain": [
       "IntSlider(value=200, description='E GPa', max=1000, min=10)"
      ]
     },
     "metadata": {},
     "output_type": "display_data"
    },
    {
     "data": {
      "application/vnd.jupyter.widget-view+json": {
       "model_id": "33e84b9d921e41c18bd479e7ace831d4",
       "version_major": 2,
       "version_minor": 0
      },
      "text/plain": [
       "FloatSlider(value=4.85, description='H GPa', max=80.0, min=1.0)"
      ]
     },
     "metadata": {},
     "output_type": "display_data"
    },
    {
     "data": {
      "application/vnd.jupyter.widget-view+json": {
       "model_id": "adfbd918b9fb4673ab192d07051b1795",
       "version_major": 2,
       "version_minor": 0
      },
      "text/plain": [
       "FloatSlider(value=0.5, description='P N', max=5.0, min=0.05, step=0.05)"
      ]
     },
     "metadata": {},
     "output_type": "display_data"
    },
    {
     "data": {
      "application/vnd.jupyter.widget-view+json": {
       "model_id": "c335f83d87284a5da8271ddc43971385",
       "version_major": 2,
       "version_minor": 0
      },
      "text/plain": [
       "IntSlider(value=27, description='c microns', max=200, min=1)"
      ]
     },
     "metadata": {},
     "output_type": "display_data"
    },
    {
     "data": {
      "application/vnd.jupyter.widget-view+json": {
       "model_id": "0d70c56ea35e4530b4d24d337c6b4ddf",
       "version_major": 2,
       "version_minor": 0
      },
      "text/plain": [
       "FloatText(value=0.0, description='K_c MPa.m^1/2', disabled=True)"
      ]
     },
     "metadata": {},
     "output_type": "display_data"
    },
    {
     "data": {
      "application/vnd.jupyter.widget-view+json": {
       "model_id": "4b8301acf2e84df7bcf067dee8523b0e",
       "version_major": 2,
       "version_minor": 0
      },
      "text/plain": [
       "FloatText(value=0.0, description='Bifano h_cu-max', disabled=True)"
      ]
     },
     "metadata": {},
     "output_type": "display_data"
    },
    {
     "data": {
      "application/vnd.jupyter.widget-view+json": {
       "model_id": "479e354a18df41e7933aa11b9e57c310",
       "version_major": 2,
       "version_minor": 0
      },
      "text/plain": [
       "FloatText(value=0.0, description='Huang h_cu-max', disabled=True)"
      ]
     },
     "metadata": {},
     "output_type": "display_data"
    }
   ],
   "source": [
    "import math\n",
    "import ipywidgets as widgets\n",
    "\n",
    "\n",
    "slider_E = widgets.IntSlider(value=200, min=10, max=1000, step=1, description='E GPa')\n",
    "slider_H = widgets.FloatSlider(value=4.85, min=1, max=80, step=0.1, description='H GPa')\n",
    "slider_P = widgets.FloatSlider(value=0.5, min=0.05, max=5, step=0.05, description='P N')\n",
    "slider_c = widgets.IntSlider(value=27, min=1, max=200, step=1, description='c microns')\n",
    "slider_Kc = widgets.FloatText(disabled=True, description='K_c MPa.m^1/2') ## widgets.FloatSlider(disabled=True, value=0.7, min=0.1, max=20, step=0.01, description='Kc MPa.m^1/2')\n",
    "\n",
    "output_crit_chip_bifano = widgets.FloatText(disabled=True, description='Bifano h_cu-max')\n",
    "output_crit_chip_huang = widgets.FloatText(disabled=True, description='Huang h_cu-max')\n",
    "\n",
    "def compute_fracture_toughness(*ignore):\n",
    "    E = slider_E.value\n",
    "    H = slider_H.value\n",
    "    P = slider_P.value\n",
    "    c = slider_c.value*1e-6\n",
    "\n",
    "    slider_Kc.value = (0.016*((E/H)**(1/2))*(P/(c**(3/2))))*1e-6\n",
    "\n",
    "\n",
    "def compute_crit_chip(*ignore):\n",
    "\n",
    "    E = slider_E.value*1e9\n",
    "    H = slider_H.value*1e9\n",
    "    Kc = slider_Kc.value*1e6\n",
    "\n",
    "    output_crit_chip_bifano.value = 0.15*(E/H)*((Kc/H)**2)\n",
    "    output_crit_chip_huang.value = 8.7*(math.sqrt(H/E))*((Kc/H)**2)\n",
    "\n",
    "\n",
    "slider_E.observe(compute_fracture_toughness, 'value')\n",
    "slider_H.observe(compute_fracture_toughness, 'value')\n",
    "slider_P.observe(compute_fracture_toughness, 'value')\n",
    "slider_c.observe(compute_fracture_toughness, 'value')\n",
    "\n",
    "slider_E.observe(compute_crit_chip, 'value')\n",
    "slider_H.observe(compute_crit_chip, 'value')\n",
    "slider_Kc.observe(compute_crit_chip, 'value')\n",
    "\n",
    "\n",
    "display(slider_E)\n",
    "display(slider_H)\n",
    "display(slider_P)\n",
    "display(slider_c)\n",
    "display(slider_Kc)\n",
    "\n",
    "display(output_crit_chip_bifano)\n",
    "display(output_crit_chip_huang)"
   ]
  }
 ],
 "metadata": {
  "kernelspec": {
   "display_name": "Python 3",
   "language": "python",
   "name": "python3"
  },
  "language_info": {
   "codemirror_mode": {
    "name": "ipython",
    "version": 3
   },
   "file_extension": ".py",
   "mimetype": "text/x-python",
   "name": "python",
   "nbconvert_exporter": "python",
   "pygments_lexer": "ipython3",
   "version": "3.13.1"
  }
 },
 "nbformat": 4,
 "nbformat_minor": 2
}
