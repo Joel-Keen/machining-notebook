{
 "cells": [
  {
   "cell_type": "markdown",
   "metadata": {},
   "source": [
    "## Cutting Edge Density\n",
    "\n",
    "Cc is the grain concentration according to FEPA. C145 for ordinary metal bond, C75 for ordinary resin bond from Haefeli\n",
    "\n",
    "dg is the average grain size in microns, i.e. D33 = 33 microns\n",
    "\n",
    "Output C concentration per unit area (i.e. grains/mm^2)\n",
    "\n",
    "TAFAMP ch 5.4\n",
    "\n",
    "#Inputs"
   ]
  },
  {
   "cell_type": "code",
   "execution_count": 3,
   "metadata": {},
   "outputs": [
    {
     "data": {
      "application/vnd.jupyter.widget-view+json": {
       "model_id": "bac89a096a0f469e8482371548d93f3e",
       "version_major": 2,
       "version_minor": 0
      },
      "text/plain": [
       "IntSlider(value=75, description='FEPA Conc.', max=1000, min=10, step=5)"
      ]
     },
     "metadata": {},
     "output_type": "display_data"
    },
    {
     "data": {
      "application/vnd.jupyter.widget-view+json": {
       "model_id": "d87bca0f948f466e92025cc25456fded",
       "version_major": 2,
       "version_minor": 0
      },
      "text/plain": [
       "FloatSlider(value=33.0, description='dg microns', max=300.0, min=3.0, step=1.0)"
      ]
     },
     "metadata": {},
     "output_type": "display_data"
    },
    {
     "data": {
      "application/vnd.jupyter.widget-view+json": {
       "model_id": "1fc73876228d4e7b876bf2a2f4db66de",
       "version_major": 2,
       "version_minor": 0
      },
      "text/plain": [
       "FloatText(value=0.0, description='Zahedi C', disabled=True)"
      ]
     },
     "metadata": {},
     "output_type": "display_data"
    },
    {
     "data": {
      "application/vnd.jupyter.widget-view+json": {
       "model_id": "678f5b1550bd4cd48bdf2dee36cd7c6f",
       "version_major": 2,
       "version_minor": 0
      },
      "text/plain": [
       "FloatText(value=0.0, description='Rowe C', disabled=True)"
      ]
     },
     "metadata": {},
     "output_type": "display_data"
    }
   ],
   "source": [
    "import math\n",
    "import ipywidgets as widgets\n",
    "\n",
    "slider_Cc = widgets.IntSlider(value=75, min=10, max=1000, step=5, description='FEPA Conc.')\n",
    "slider_dg = widgets.FloatSlider(value=33, min=3, max=300, step=1, description='dg microns')\n",
    "\n",
    "output_cutting_edge_density_zahedi = widgets.FloatText(disabled=True, description='Zahedi C')\n",
    "output_cutting_edge_density_rowe = widgets.FloatText(disabled=True, description='Rowe C')\n",
    "\n",
    "def compute_cutting_edge_density(*ignore):\n",
    "\n",
    "    Cc = slider_Cc.value\n",
    "    dg = slider_dg.value/1000 # into mm for equations\n",
    "\n",
    "    output_cutting_edge_density_zahedi.value = (((3*Cc)/(200*math.pi)**(2/3))/(dg**2))\n",
    "    output_cutting_edge_density_rowe.value = 1/(2.25*dg**2)\n",
    "    \n",
    "slider_Cc.observe(compute_cutting_edge_density, 'value')\n",
    "slider_dg.observe(compute_cutting_edge_density, 'value')\n",
    "\n",
    "\n",
    "\n",
    "display(slider_Cc)\n",
    "display(slider_dg)\n",
    "display(output_cutting_edge_density_zahedi)\n",
    "display(output_cutting_edge_density_rowe)\n"
   ]
  }
 ],
 "metadata": {
  "kernelspec": {
   "display_name": "Python 3",
   "language": "python",
   "name": "python3"
  },
  "language_info": {
   "codemirror_mode": {
    "name": "ipython",
    "version": 3
   },
   "file_extension": ".py",
   "mimetype": "text/x-python",
   "name": "python",
   "nbconvert_exporter": "python",
   "pygments_lexer": "ipython3",
   "version": "3.13.1"
  }
 },
 "nbformat": 4,
 "nbformat_minor": 2
}
