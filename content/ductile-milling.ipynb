{
 "cells": [
  {
   "cell_type": "markdown",
   "metadata": {},
   "source": [
    "##Ductile Milling\n",
    "#Inputs\n",
    "Dc = tool diameter\n",
    "Re = tool corner radius\n",
    "\n",
    "h_cu-max = maximum chip thickness for Bifano's formula\n",
    "Ae = radial stepover\n",
    "Ap = axial stepdown\n",
    "\n",
    "Vc = surface speed\n",
    "Side and face feedrates are for the primary cutting mode taking into account critical chip thickness and chip thinning"
   ]
  },
  {
   "cell_type": "code",
   "execution_count": 1,
   "metadata": {
    "tags": []
   },
   "outputs": [
    {
     "data": {
      "application/vnd.jupyter.widget-view+json": {
       "model_id": "44e1eb9c0540405ba5a022aae1ebf784",
       "version_major": 2,
       "version_minor": 0
      },
      "text/plain": [
       "IntSlider(value=100000, description='Spindle rpm', max=250000, min=10)"
      ]
     },
     "metadata": {},
     "output_type": "display_data"
    },
    {
     "data": {
      "application/vnd.jupyter.widget-view+json": {
       "model_id": "365707bc82f144839916a72c96e67efa",
       "version_major": 2,
       "version_minor": 0
      },
      "text/plain": [
       "FloatSlider(value=3.0, description='Dc mm', max=10.0, min=0.1)"
      ]
     },
     "metadata": {},
     "output_type": "display_data"
    },
    {
     "data": {
      "application/vnd.jupyter.widget-view+json": {
       "model_id": "ad1859687e5f464a9dfccf785f44d4c5",
       "version_major": 2,
       "version_minor": 0
      },
      "text/plain": [
       "FloatLogSlider(value=0.1, description='Re mm', max=1.0, min=-3.0)"
      ]
     },
     "metadata": {},
     "output_type": "display_data"
    },
    {
     "data": {
      "application/vnd.jupyter.widget-view+json": {
       "model_id": "9b0a02f8038645cbac93b801141b5c15",
       "version_major": 2,
       "version_minor": 0
      },
      "text/plain": [
       "IntSlider(value=1, description='N Flutes', max=1000, min=1)"
      ]
     },
     "metadata": {},
     "output_type": "display_data"
    },
    {
     "data": {
      "application/vnd.jupyter.widget-view+json": {
       "model_id": "7ca88e1427e94551afb427775377b790",
       "version_major": 2,
       "version_minor": 0
      },
      "text/plain": [
       "FloatLogSlider(value=1e-05, description='h_cu-max', max=0.1, min=-6.0, step=0.01)"
      ]
     },
     "metadata": {},
     "output_type": "display_data"
    },
    {
     "data": {
      "application/vnd.jupyter.widget-view+json": {
       "model_id": "f08efd837a9f441dac3e45ba272b4a4e",
       "version_major": 2,
       "version_minor": 0
      },
      "text/plain": [
       "FloatLogSlider(value=0.001, description='Ae mm', max=1.0, min=-6.0, step=0.01)"
      ]
     },
     "metadata": {},
     "output_type": "display_data"
    },
    {
     "data": {
      "application/vnd.jupyter.widget-view+json": {
       "model_id": "fd48e50cb4894e8ca5aae024a2a99329",
       "version_major": 2,
       "version_minor": 0
      },
      "text/plain": [
       "FloatLogSlider(value=0.001, description='Ap mm', max=1.0, min=-6.0, step=0.01)"
      ]
     },
     "metadata": {},
     "output_type": "display_data"
    }
   ],
   "source": [
    "import math\n",
    "import ipywidgets as widgets\n",
    "\n",
    "\n",
    "slider_rpm = widgets.IntSlider(value=100000, min=10, max=250000, description='Spindle rpm')\n",
    "slider_diameter = widgets.FloatSlider(value=3, min=0.1, max=10, description='Dc mm')\n",
    "slider_tip_radius = widgets.FloatLogSlider(value=0.1, base=10, min=-3, max=1, description='Re mm' )\n",
    "slider_flutes = widgets.IntSlider(value=1, min=1, max=1000, description='N Flutes')\n",
    "slider_crit_chip = widgets.FloatLogSlider(value=0.00001, base=10, min=-6, max=0.1, step = 0.01, description='h_cu-max')\n",
    "slider_stepover = widgets.FloatLogSlider(value=0.001, base=10, min=-6, max=1, step = 0.01,description='Ae mm')\n",
    "slider_stepdown = widgets.FloatLogSlider(value=0.001, base=10, min=-6, max=1, step = 0.01, description='Ap mm')\n",
    "\n",
    "output_surface_speed = widgets.FloatText(disabled=True, description='Vc m/min')\n",
    "output_feedrate_side = widgets.FloatText(disabled=True, description='Side Vf mm/s')\n",
    "output_feedrate_face = widgets.FloatText(disabled=True, description='Face Vf mm/s')\n",
    "\n",
    "def compute_surface_speed(*ignore):\n",
    "    output_surface_speed.value = round(math.pi*slider_diameter.value * slider_rpm.value/1000)\n",
    "\n",
    "def compute_feedrates_crit_chip(*ignore):\n",
    "    spindle_rps = slider_rpm.value/60\n",
    "\n",
    "    radial_chip_thinning_factor = 1/(math.sqrt(1-(1-2*slider_stepover.value/slider_diameter.value)**2))\n",
    "    feed_per_flute_side = radial_chip_thinning_factor*slider_crit_chip.value\n",
    "    output_feedrate_side.value = round((feed_per_flute_side*spindle_rps*slider_flutes.value),3)\n",
    "\n",
    "    axial_chip_thinning_factor = 1/(math.sqrt((2*slider_stepdown.value/slider_tip_radius.value)-(slider_stepdown.value/slider_tip_radius.value)**2))\n",
    "    feed_per_flute_face = axial_chip_thinning_factor*slider_crit_chip.value\n",
    "    output_feedrate_face.value = round((feed_per_flute_face*spindle_rps*slider_flutes.value),3)\n",
    "    \n",
    "\n",
    "slider_rpm.observe(compute_surface_speed, 'value')\n",
    "slider_diameter.observe(compute_surface_speed, 'value')\n",
    "\n",
    "slider_rpm.observe(compute_feedrates_crit_chip, 'value')\n",
    "slider_diameter.observe(compute_feedrates_crit_chip, 'value')\n",
    "slider_tip_radius.observe(compute_feedrates_crit_chip, 'value')\n",
    "slider_flutes.observe(compute_feedrates_crit_chip, 'value')\n",
    "slider_crit_chip.observe(compute_feedrates_crit_chip, 'value')\n",
    "slider_stepover.observe(compute_feedrates_crit_chip, 'value')\n",
    "slider_stepdown.observe(compute_feedrates_crit_chip, 'value')\n",
    "\n",
    "\n",
    "\n",
    "display(slider_rpm)\n",
    "display(slider_diameter)\n",
    "display(slider_tip_radius)\n",
    "display(slider_flutes)\n",
    "display(slider_crit_chip)\n",
    "display(slider_stepover)\n",
    "display(slider_stepdown)\n"
   ]
  },
  {
   "cell_type": "markdown",
   "metadata": {},
   "source": [
    "#Results"
   ]
  },
  {
   "cell_type": "code",
   "execution_count": null,
   "metadata": {},
   "outputs": [],
   "source": [
    "\n",
    "display(output_surface_speed)\n",
    "display(output_feedrate_side)\n",
    "display(output_feedrate_face)\n",
    "\n",
    "\n",
    " "
   ]
  },
  {
   "cell_type": "markdown",
   "metadata": {},
   "source": []
  }
 ],
 "metadata": {
  "kernelspec": {
   "display_name": "Python 3",
   "language": "python",
   "name": "python3"
  },
  "language_info": {
   "codemirror_mode": {
    "name": "ipython",
    "version": 3
   },
   "file_extension": ".py",
   "mimetype": "text/x-python",
   "name": "python",
   "nbconvert_exporter": "python",
   "pygments_lexer": "ipython3",
   "version": "3.13.1"
  }
 },
 "nbformat": 4,
 "nbformat_minor": 4
}
