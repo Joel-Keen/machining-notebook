{
 "cells": [
  {
   "cell_type": "markdown",
   "metadata": {},
   "source": [
    "##Ductile Milling\n",
    "Input required values for estimates"
   ]
  },
  {
   "cell_type": "code",
   "execution_count": 43,
   "metadata": {
    "tags": []
   },
   "outputs": [
    {
     "data": {
      "application/vnd.jupyter.widget-view+json": {
       "model_id": "1319e7263d8e4da3baa34eb6dd6bb204",
       "version_major": 2,
       "version_minor": 0
      },
      "text/plain": [
       "IntSlider(value=100000, description='Spindle RPM', max=250000, min=10)"
      ]
     },
     "metadata": {},
     "output_type": "display_data"
    },
    {
     "data": {
      "application/vnd.jupyter.widget-view+json": {
       "model_id": "53457dc8cc3148faabdb51e1a0b18f1d",
       "version_major": 2,
       "version_minor": 0
      },
      "text/plain": [
       "FloatSlider(value=3.0, description='Dc mm', max=10.0, min=0.1)"
      ]
     },
     "metadata": {},
     "output_type": "display_data"
    },
    {
     "data": {
      "application/vnd.jupyter.widget-view+json": {
       "model_id": "6c0e368294c049848b54ce09027c038a",
       "version_major": 2,
       "version_minor": 0
      },
      "text/plain": [
       "FloatLogSlider(value=0.1, description='Re mm', max=1.0, min=-3.0)"
      ]
     },
     "metadata": {},
     "output_type": "display_data"
    },
    {
     "data": {
      "application/vnd.jupyter.widget-view+json": {
       "model_id": "ae11295fb45b435eb94eef29d4f1b2aa",
       "version_major": 2,
       "version_minor": 0
      },
      "text/plain": [
       "IntSlider(value=1, description='N Flutes', max=1000, min=1)"
      ]
     },
     "metadata": {},
     "output_type": "display_data"
    },
    {
     "data": {
      "application/vnd.jupyter.widget-view+json": {
       "model_id": "b8fad7d028a043ee82129e7678c24987",
       "version_major": 2,
       "version_minor": 0
      },
      "text/plain": [
       "FloatLogSlider(value=1e-05, description='h_cu-max mm', max=0.1, min=-6.0, step=0.01)"
      ]
     },
     "metadata": {},
     "output_type": "display_data"
    },
    {
     "data": {
      "application/vnd.jupyter.widget-view+json": {
       "model_id": "0b21007b34d040a2ac5c74ab8259e4df",
       "version_major": 2,
       "version_minor": 0
      },
      "text/plain": [
       "FloatLogSlider(value=0.001, description='Ae mm', max=1.0, min=-6.0, step=0.01)"
      ]
     },
     "metadata": {},
     "output_type": "display_data"
    },
    {
     "data": {
      "application/vnd.jupyter.widget-view+json": {
       "model_id": "40b5c2cbec0845589310bfb20f172656",
       "version_major": 2,
       "version_minor": 0
      },
      "text/plain": [
       "FloatLogSlider(value=0.001, description='Ap mm', max=1.0, min=-6.0, step=0.01)"
      ]
     },
     "metadata": {},
     "output_type": "display_data"
    },
    {
     "data": {
      "application/vnd.jupyter.widget-view+json": {
       "model_id": "4293b6e945aa4e57a1de30f287436ae4",
       "version_major": 2,
       "version_minor": 0
      },
      "text/plain": [
       "FloatText(value=0.0, description='Vc M/Min', disabled=True)"
      ]
     },
     "metadata": {},
     "output_type": "display_data"
    },
    {
     "data": {
      "application/vnd.jupyter.widget-view+json": {
       "model_id": "ddfd8003f21745ce82be177537ba7a7d",
       "version_major": 2,
       "version_minor": 0
      },
      "text/plain": [
       "FloatText(value=0.0, description='Side Vf mm/s', disabled=True)"
      ]
     },
     "metadata": {},
     "output_type": "display_data"
    },
    {
     "data": {
      "application/vnd.jupyter.widget-view+json": {
       "model_id": "876f2226103a4f32aa2d65009c87f6d2",
       "version_major": 2,
       "version_minor": 0
      },
      "text/plain": [
       "FloatText(value=0.0, description='Face Vf mm/s', disabled=True)"
      ]
     },
     "metadata": {},
     "output_type": "display_data"
    }
   ],
   "source": [
    "import math\n",
    "import ipywidgets as widgets\n",
    "\n",
    "\n",
    "slider_rpm = widgets.IntSlider(value=100000, min=10, max=250000, description='Spindle RPM')\n",
    "slider_diameter = widgets.FloatSlider(value=3, min=0.1, max=10, description='Dc mm')\n",
    "slider_tip_radius = widgets.FloatLogSlider(value=0.1, base=10, min=-3, max=1, description='Re mm' )\n",
    "slider_flutes = widgets.IntSlider(value=1, min=1, max=1000, description='N Flutes')\n",
    "slider_crit_chip = widgets.FloatLogSlider(value=0.00001, base=10, min=-6, max=0.1, step = 0.01, description='h_cu-max mm')\n",
    "slider_stepover = widgets.FloatLogSlider(value=0.001, base=10, min=-6, max=1, step = 0.01,description='Ae mm')\n",
    "slider_stepdown = widgets.FloatLogSlider(value=0.001, base=10, min=-6, max=1, step = 0.01, description='Ap mm')\n",
    "\n",
    "output_surface_speed = widgets.FloatText(disabled=True, description='Vc M/Min')\n",
    "output_feedrate_side = widgets.FloatText(disabled=True, description='Side Vf mm/s')\n",
    "output_feedrate_face = widgets.FloatText(disabled=True, description='Face Vf mm/s')\n",
    "\n",
    "\n",
    "\n",
    "def compute_surface_speed(*ignore):\n",
    "    output_surface_speed.value = round(math.pi*slider_diameter.value * slider_rpm.value/1000)\n",
    "\n",
    "def compute_feedrates_crit_chip(*ignore):\n",
    "    spindle_rps = slider_rpm.value/60\n",
    "\n",
    "    radial_chip_thinning_factor = 1/(math.sqrt(1-(1-2*slider_stepover.value/slider_diameter.value)**2))\n",
    "    feed_per_flute_side = radial_chip_thinning_factor*slider_crit_chip.value\n",
    "    output_feedrate_side.value = round((feed_per_flute_side*spindle_rps*slider_flutes.value),3)\n",
    "\n",
    "    axial_chip_thinning_factor = 1/(math.sqrt((2*slider_stepdown.value/slider_tip_radius.value)-(slider_stepdown.value/slider_tip_radius.value)**2))\n",
    "    feed_per_flute_face = axial_chip_thinning_factor*slider_crit_chip.value\n",
    "    output_feedrate_face.value = round((feed_per_flute_face*spindle_rps*slider_flutes.value),3)\n",
    "    \n",
    "\n",
    "slider_rpm.observe(compute_surface_speed, 'value')\n",
    "slider_diameter.observe(compute_surface_speed, 'value')\n",
    "\n",
    "slider_rpm.observe(compute_feedrates_crit_chip, 'value')\n",
    "slider_diameter.observe(compute_feedrates_crit_chip, 'value')\n",
    "slider_tip_radius.observe(compute_feedrates_crit_chip, 'value')\n",
    "slider_flutes.observe(compute_feedrates_crit_chip, 'value')\n",
    "slider_crit_chip.observe(compute_feedrates_crit_chip, 'value')\n",
    "slider_stepover.observe(compute_feedrates_crit_chip, 'value')\n",
    "slider_stepdown.observe(compute_feedrates_crit_chip, 'value')\n",
    "\n",
    "\n",
    "\n",
    "display(slider_rpm)\n",
    "display(slider_diameter)\n",
    "display(slider_tip_radius)\n",
    "display(slider_flutes)\n",
    "display(slider_crit_chip)\n",
    "display(slider_stepover)\n",
    "display(slider_stepdown)\n",
    "\n",
    "display(output_surface_speed)\n",
    "display(output_feedrate_side)\n",
    "display(output_feedrate_face)\n",
    "\n",
    "\n",
    " "
   ]
  },
  {
   "cell_type": "markdown",
   "metadata": {},
   "source": []
  },
  {
   "cell_type": "markdown",
   "metadata": {},
   "source": []
  }
 ],
 "metadata": {
  "kernelspec": {
   "display_name": "Python 3",
   "language": "python",
   "name": "python3"
  },
  "language_info": {
   "codemirror_mode": {
    "name": "ipython",
    "version": 3
   },
   "file_extension": ".py",
   "mimetype": "text/x-python",
   "name": "python",
   "nbconvert_exporter": "python",
   "pygments_lexer": "ipython3",
   "version": "3.13.1"
  }
 },
 "nbformat": 4,
 "nbformat_minor": 4
}
