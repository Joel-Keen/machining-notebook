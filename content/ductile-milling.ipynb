{
 "cells": [
  {
   "cell_type": "markdown",
   "metadata": {},
   "source": [
    "##Ductile Milling \n",
    "Input required values for estimates"
   ]
  },
  {
   "cell_type": "code",
   "execution_count": 11,
   "metadata": {
    "tags": []
   },
   "outputs": [
    {
     "data": {
      "text/html": [
       "\n",
       "<style>\n",
       ".output {\n",
       "    display: flex;\n",
       "    align-items: center;\n",
       "    text-align: center;\n",
       "}\n",
       "</style>\n"
      ],
      "text/plain": [
       "<IPython.core.display.HTML object>"
      ]
     },
     "metadata": {},
     "output_type": "display_data"
    },
    {
     "data": {
      "application/vnd.jupyter.widget-view+json": {
       "model_id": "def76e8db5264a7cb0c1da1280bd1ec7",
       "version_major": 2,
       "version_minor": 0
      },
      "text/plain": [
       "IntSlider(value=100000, description='Tool RPM', max=250000, min=10)"
      ]
     },
     "metadata": {},
     "output_type": "display_data"
    },
    {
     "data": {
      "application/vnd.jupyter.widget-view+json": {
       "model_id": "9a8066088bcb4a3ab4917d42f02365b2",
       "version_major": 2,
       "version_minor": 0
      },
      "text/plain": [
       "FloatSlider(value=3.0, description='Tool Dia', min=0.001)"
      ]
     },
     "metadata": {},
     "output_type": "display_data"
    },
    {
     "data": {
      "application/vnd.jupyter.widget-view+json": {
       "model_id": "607d5819d8324965b12d360aa3554d67",
       "version_major": 2,
       "version_minor": 0
      },
      "text/plain": [
       "FloatText(value=0.0, description='Surface Speed', disabled=True)"
      ]
     },
     "metadata": {},
     "output_type": "display_data"
    }
   ],
   "source": [
    "import math\n",
    "import ipywidgets as widgets\n",
    "from IPython.display import HTML\n",
    "\n",
    "display(HTML(\"\"\"\n",
    "<style>\n",
    ".output {\n",
    "    display: flex;\n",
    "    align-items: center;\n",
    "    text-align: center;\n",
    "}\n",
    "</style>\n",
    "\"\"\"))\n",
    "\n",
    "slider_rpm = widgets.IntSlider(value=100000, min=10, max=250000, description='Tool RPM')\n",
    "slider_diameter = widgets.FloatSlider(value=3, min=0.01, max=10, description='Tool Dia')\n",
    "\n",
    "output_surface_speed = widgets.FloatText(disabled=True, description='Surface Speed')\n",
    "\n",
    "def compute_surface_speed(*ignore):\n",
    "    output_surface_speed.value = str(3.142*slider_diameter.value * slider_rpm.value/100)\n",
    "\n",
    "slider_rpm.observe(compute_surface_speed, 'value')\n",
    "slider_diameter.observe(compute_surface_speed, 'value')\n",
    "\n",
    "\n",
    "display(slider_rpm)\n",
    "display(slider_diameter)\n",
    "display(output_surface_speed)\n",
    "\n",
    "\n",
    "# tooltip_surface_speed = 3.142*tooltip_diameter_d*tool_rpm/1000 #m/min\n",
    "# print(\"surface speed \" + str(tooltip_surface_speed))\n",
    "\n",
    "# tool_feed = 0.075 #mm/s\n",
    "# tooltip_feed_per_tooth_fz = (1000*tool_feed)/(tool_rpm*tooltip_tooth_count) # microns \n",
    "# print(\"nominal feed per tooth \" + str(tooltip_feed_per_tooth_fz))\n",
    "\n",
    "# tool_stepover_ae = 0.005 #mm\n",
    "\n",
    "# radial_chip_thinning_factor = 1/(math.sqrt(1-(1-2*tool_stepover_ae/tooltip_diameter_d)**2))\n",
    "# print(\"radial chip thinning factor \" + str(radial_chip_thinning_factor))\n",
    "\n",
    "# tooltip_max_uncut_chip_thickness_hcumax = tooltip_feed_per_tooth_fz/radial_chip_thinning_factor\n",
    "# print(\"max uncut chip thickness \" + str(tooltip_max_uncut_chip_thickness_hcumax))\n",
    "\n",
    "\n",
    "\n",
    "\n",
    "\n",
    "\n",
    "\n",
    "\n",
    "\n",
    "\n",
    "\n",
    " "
   ]
  },
  {
   "cell_type": "markdown",
   "metadata": {},
   "source": []
  },
  {
   "cell_type": "markdown",
   "metadata": {},
   "source": []
  }
 ],
 "metadata": {
  "kernelspec": {
   "display_name": "Python 3",
   "language": "python",
   "name": "python3"
  },
  "language_info": {
   "codemirror_mode": {
    "name": "ipython",
    "version": 3
   },
   "file_extension": ".py",
   "mimetype": "text/x-python",
   "name": "python",
   "nbconvert_exporter": "python",
   "pygments_lexer": "ipython3",
   "version": "3.13.1"
  }
 },
 "nbformat": 4,
 "nbformat_minor": 4
}
