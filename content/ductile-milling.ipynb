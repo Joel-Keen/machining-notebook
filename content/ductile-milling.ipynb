{
 "cells": [
  {
   "cell_type": "code",
   "execution_count": null,
   "metadata": {
    "tags": []
   },
   "outputs": [],
   "source": [
    "import math\n",
    "\n",
    "tool_rpm = 125000 #rpm\n",
    "tool_rps = tool_rpm*60 #rev per s\n",
    "tooltip_diameter_d = 2.5 #mm\n",
    "tooltip_tooth_count = 1\n",
    "\n",
    "\n",
    "tooltip_surface_speed = 3.142*tooltip_diameter_d*tool_rpm/1000 #m/min\n",
    "print(\"surface speed \" + str(tooltip_surface_speed))\n",
    "\n",
    "tool_feed = 0.075 #mm/s\n",
    "tooltip_feed_per_tooth_fz = (1000*tool_feed)/(tool_rpm*tooltip_tooth_count) # microns \n",
    "print(\"nominal feed per tooth \" + str(tooltip_feed_per_tooth_fz))\n",
    "\n",
    "tool_stepover_ae = 0.005 #mm\n",
    "\n",
    "radial_chip_thinning_factor = 1/(math.sqrt(1-(1-2*tool_stepover_ae/tooltip_diameter_d)**2))\n",
    "print(\"radial chip thinning factor \" + str(radial_chip_thinning_factor))\n",
    "\n",
    "tooltip_max_uncut_chip_thickness_hcumax = tooltip_feed_per_tooth_fz/radial_chip_thinning_factor\n",
    "print(\"max uncut chip thickness \" + str(tooltip_max_uncut_chip_thickness_hcumax))"
   ]
  }
 ],
 "metadata": {
  "kernelspec": {
   "display_name": "Python 3 (ipykernel)",
   "language": "python",
   "name": "python3"
  },
  "language_info": {
   "codemirror_mode": {
    "name": "ipython",
    "version": 3
   },
   "file_extension": ".py",
   "mimetype": "text/x-python",
   "name": "python",
   "nbconvert_exporter": "python",
   "pygments_lexer": "ipython3",
   "version": "3.11.3"
  },
  "vscode": {
   "interpreter": {
    "hash": "e7370f93d1d0cde622a1f8e1c04877d8463912d04d973331ad4851f04de6915a"
   }
  }
 },
 "nbformat": 4,
 "nbformat_minor": 4
}
